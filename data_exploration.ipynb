{
 "cells": [
  {
   "cell_type": "code",
   "execution_count": 1,
   "metadata": {},
   "outputs": [],
   "source": [
    "import pandas as pd\n",
    "import numpy as np\n",
    "import inflection\n",
    "import plotly.express as px\n",
    "import requests"
   ]
  },
  {
   "cell_type": "code",
   "execution_count": 2,
   "metadata": {},
   "outputs": [],
   "source": [
    "# Set pandas to display all columns\n",
    "pd.set_option('display.max_columns', None)\n",
    "\n",
    "# Set pandas to display float numbers up to 2 decimal places\n",
    "pd.set_option('display.float_format', lambda x: '%.2f' % x)"
   ]
  },
  {
   "cell_type": "markdown",
   "metadata": {},
   "source": [
    "# Data exploration"
   ]
  },
  {
   "cell_type": "code",
   "execution_count": 3,
   "metadata": {},
   "outputs": [
    {
     "data": {
      "text/html": [
       "<div>\n",
       "<style scoped>\n",
       "    .dataframe tbody tr th:only-of-type {\n",
       "        vertical-align: middle;\n",
       "    }\n",
       "\n",
       "    .dataframe tbody tr th {\n",
       "        vertical-align: top;\n",
       "    }\n",
       "\n",
       "    .dataframe thead th {\n",
       "        text-align: right;\n",
       "    }\n",
       "</style>\n",
       "<table border=\"1\" class=\"dataframe\">\n",
       "  <thead>\n",
       "    <tr style=\"text-align: right;\">\n",
       "      <th></th>\n",
       "      <th>Restaurant ID</th>\n",
       "      <th>Restaurant Name</th>\n",
       "      <th>Country Code</th>\n",
       "      <th>City</th>\n",
       "      <th>Address</th>\n",
       "      <th>Locality</th>\n",
       "      <th>Locality Verbose</th>\n",
       "      <th>Longitude</th>\n",
       "      <th>Latitude</th>\n",
       "      <th>Cuisines</th>\n",
       "      <th>Average Cost for two</th>\n",
       "      <th>Currency</th>\n",
       "      <th>Has Table booking</th>\n",
       "      <th>Has Online delivery</th>\n",
       "      <th>Is delivering now</th>\n",
       "      <th>Switch to order menu</th>\n",
       "      <th>Price range</th>\n",
       "      <th>Aggregate rating</th>\n",
       "      <th>Rating color</th>\n",
       "      <th>Rating text</th>\n",
       "      <th>Votes</th>\n",
       "    </tr>\n",
       "  </thead>\n",
       "  <tbody>\n",
       "    <tr>\n",
       "      <th>0</th>\n",
       "      <td>6310675</td>\n",
       "      <td>Mama Lou's Italian Kitchen</td>\n",
       "      <td>162</td>\n",
       "      <td>Las Piñas City</td>\n",
       "      <td>Block 1, Lot 36, Tropical Avenue Corner Tropic...</td>\n",
       "      <td>BF International</td>\n",
       "      <td>BF International, Las Piñas City</td>\n",
       "      <td>121.01</td>\n",
       "      <td>14.45</td>\n",
       "      <td>Italian</td>\n",
       "      <td>1100</td>\n",
       "      <td>Botswana Pula(P)</td>\n",
       "      <td>1</td>\n",
       "      <td>0</td>\n",
       "      <td>0</td>\n",
       "      <td>0</td>\n",
       "      <td>3</td>\n",
       "      <td>4.60</td>\n",
       "      <td>3F7E00</td>\n",
       "      <td>Excellent</td>\n",
       "      <td>619</td>\n",
       "    </tr>\n",
       "    <tr>\n",
       "      <th>1</th>\n",
       "      <td>6310675</td>\n",
       "      <td>Mama Lou's Italian Kitchen</td>\n",
       "      <td>162</td>\n",
       "      <td>Las Piñas City</td>\n",
       "      <td>Block 1, Lot 36, Tropical Avenue Corner Tropic...</td>\n",
       "      <td>BF International</td>\n",
       "      <td>BF International, Las Piñas City</td>\n",
       "      <td>121.01</td>\n",
       "      <td>14.45</td>\n",
       "      <td>Italian</td>\n",
       "      <td>1100</td>\n",
       "      <td>Botswana Pula(P)</td>\n",
       "      <td>1</td>\n",
       "      <td>0</td>\n",
       "      <td>0</td>\n",
       "      <td>0</td>\n",
       "      <td>3</td>\n",
       "      <td>4.60</td>\n",
       "      <td>3F7E00</td>\n",
       "      <td>Excellent</td>\n",
       "      <td>619</td>\n",
       "    </tr>\n",
       "    <tr>\n",
       "      <th>2</th>\n",
       "      <td>6314542</td>\n",
       "      <td>Blackbird</td>\n",
       "      <td>162</td>\n",
       "      <td>Makati City</td>\n",
       "      <td>Nielson Tower, Ayala Triangle Gardens, Salcedo...</td>\n",
       "      <td>Ayala Triangle Gardens, Salcedo Village, Makat...</td>\n",
       "      <td>Ayala Triangle Gardens, Salcedo Village, Makat...</td>\n",
       "      <td>121.02</td>\n",
       "      <td>14.56</td>\n",
       "      <td>European, Asian</td>\n",
       "      <td>3100</td>\n",
       "      <td>Botswana Pula(P)</td>\n",
       "      <td>0</td>\n",
       "      <td>0</td>\n",
       "      <td>0</td>\n",
       "      <td>0</td>\n",
       "      <td>4</td>\n",
       "      <td>4.70</td>\n",
       "      <td>3F7E00</td>\n",
       "      <td>Excellent</td>\n",
       "      <td>469</td>\n",
       "    </tr>\n",
       "    <tr>\n",
       "      <th>3</th>\n",
       "      <td>6301293</td>\n",
       "      <td>Banapple</td>\n",
       "      <td>162</td>\n",
       "      <td>Makati City</td>\n",
       "      <td>Ayala Triangle Gardens, Salcedo Village, Makat...</td>\n",
       "      <td>Ayala Triangle Gardens, Salcedo Village, Makat...</td>\n",
       "      <td>Ayala Triangle Gardens, Salcedo Village, Makat...</td>\n",
       "      <td>121.02</td>\n",
       "      <td>14.56</td>\n",
       "      <td>Filipino, American, Italian, Bakery</td>\n",
       "      <td>800</td>\n",
       "      <td>Botswana Pula(P)</td>\n",
       "      <td>0</td>\n",
       "      <td>0</td>\n",
       "      <td>0</td>\n",
       "      <td>0</td>\n",
       "      <td>3</td>\n",
       "      <td>4.40</td>\n",
       "      <td>5BA829</td>\n",
       "      <td>Very Good</td>\n",
       "      <td>867</td>\n",
       "    </tr>\n",
       "    <tr>\n",
       "      <th>4</th>\n",
       "      <td>6315689</td>\n",
       "      <td>Bad Bird</td>\n",
       "      <td>162</td>\n",
       "      <td>Makati City</td>\n",
       "      <td>Hole In The Wall, Floor 4, Century City Mall, ...</td>\n",
       "      <td>Century City Mall, Poblacion, Makati City</td>\n",
       "      <td>Century City Mall, Poblacion, Makati City, Mak...</td>\n",
       "      <td>121.03</td>\n",
       "      <td>14.57</td>\n",
       "      <td>American</td>\n",
       "      <td>700</td>\n",
       "      <td>Botswana Pula(P)</td>\n",
       "      <td>0</td>\n",
       "      <td>0</td>\n",
       "      <td>0</td>\n",
       "      <td>0</td>\n",
       "      <td>3</td>\n",
       "      <td>4.40</td>\n",
       "      <td>5BA829</td>\n",
       "      <td>Very Good</td>\n",
       "      <td>858</td>\n",
       "    </tr>\n",
       "  </tbody>\n",
       "</table>\n",
       "</div>"
      ],
      "text/plain": [
       "   Restaurant ID             Restaurant Name  Country Code            City  \\\n",
       "0        6310675  Mama Lou's Italian Kitchen           162  Las Piñas City   \n",
       "1        6310675  Mama Lou's Italian Kitchen           162  Las Piñas City   \n",
       "2        6314542                   Blackbird           162     Makati City   \n",
       "3        6301293                    Banapple           162     Makati City   \n",
       "4        6315689                    Bad Bird           162     Makati City   \n",
       "\n",
       "                                             Address  \\\n",
       "0  Block 1, Lot 36, Tropical Avenue Corner Tropic...   \n",
       "1  Block 1, Lot 36, Tropical Avenue Corner Tropic...   \n",
       "2  Nielson Tower, Ayala Triangle Gardens, Salcedo...   \n",
       "3  Ayala Triangle Gardens, Salcedo Village, Makat...   \n",
       "4  Hole In The Wall, Floor 4, Century City Mall, ...   \n",
       "\n",
       "                                            Locality  \\\n",
       "0                                   BF International   \n",
       "1                                   BF International   \n",
       "2  Ayala Triangle Gardens, Salcedo Village, Makat...   \n",
       "3  Ayala Triangle Gardens, Salcedo Village, Makat...   \n",
       "4          Century City Mall, Poblacion, Makati City   \n",
       "\n",
       "                                    Locality Verbose  Longitude  Latitude  \\\n",
       "0                   BF International, Las Piñas City     121.01     14.45   \n",
       "1                   BF International, Las Piñas City     121.01     14.45   \n",
       "2  Ayala Triangle Gardens, Salcedo Village, Makat...     121.02     14.56   \n",
       "3  Ayala Triangle Gardens, Salcedo Village, Makat...     121.02     14.56   \n",
       "4  Century City Mall, Poblacion, Makati City, Mak...     121.03     14.57   \n",
       "\n",
       "                              Cuisines  Average Cost for two  \\\n",
       "0                              Italian                  1100   \n",
       "1                              Italian                  1100   \n",
       "2                      European, Asian                  3100   \n",
       "3  Filipino, American, Italian, Bakery                   800   \n",
       "4                             American                   700   \n",
       "\n",
       "           Currency  Has Table booking  Has Online delivery  \\\n",
       "0  Botswana Pula(P)                  1                    0   \n",
       "1  Botswana Pula(P)                  1                    0   \n",
       "2  Botswana Pula(P)                  0                    0   \n",
       "3  Botswana Pula(P)                  0                    0   \n",
       "4  Botswana Pula(P)                  0                    0   \n",
       "\n",
       "   Is delivering now  Switch to order menu  Price range  Aggregate rating  \\\n",
       "0                  0                     0            3              4.60   \n",
       "1                  0                     0            3              4.60   \n",
       "2                  0                     0            4              4.70   \n",
       "3                  0                     0            3              4.40   \n",
       "4                  0                     0            3              4.40   \n",
       "\n",
       "  Rating color Rating text  Votes  \n",
       "0       3F7E00   Excellent    619  \n",
       "1       3F7E00   Excellent    619  \n",
       "2       3F7E00   Excellent    469  \n",
       "3       5BA829   Very Good    867  \n",
       "4       5BA829   Very Good    858  "
      ]
     },
     "execution_count": 3,
     "metadata": {},
     "output_type": "execute_result"
    }
   ],
   "source": [
    "df0 = pd.read_csv(\"dataset/zomato.csv\")\n",
    "df1 = df0.copy()\n",
    "df1.head()"
   ]
  },
  {
   "cell_type": "code",
   "execution_count": 4,
   "metadata": {},
   "outputs": [
    {
     "name": "stdout",
     "output_type": "stream",
     "text": [
      "O Dataset possui 7527 linhas e 21 colunas.\n"
     ]
    }
   ],
   "source": [
    "print(f'O Dataset possui {df1.shape[0]} linhas e {df1.shape[1]} colunas.')"
   ]
  },
  {
   "cell_type": "code",
   "execution_count": 5,
   "metadata": {},
   "outputs": [
    {
     "name": "stdout",
     "output_type": "stream",
     "text": [
      "<class 'pandas.core.frame.DataFrame'>\n",
      "RangeIndex: 7527 entries, 0 to 7526\n",
      "Data columns (total 21 columns):\n",
      " #   Column                Non-Null Count  Dtype  \n",
      "---  ------                --------------  -----  \n",
      " 0   Restaurant ID         7527 non-null   int64  \n",
      " 1   Restaurant Name       7527 non-null   object \n",
      " 2   Country Code          7527 non-null   int64  \n",
      " 3   City                  7527 non-null   object \n",
      " 4   Address               7527 non-null   object \n",
      " 5   Locality              7527 non-null   object \n",
      " 6   Locality Verbose      7527 non-null   object \n",
      " 7   Longitude             7527 non-null   float64\n",
      " 8   Latitude              7527 non-null   float64\n",
      " 9   Cuisines              7512 non-null   object \n",
      " 10  Average Cost for two  7527 non-null   int64  \n",
      " 11  Currency              7527 non-null   object \n",
      " 12  Has Table booking     7527 non-null   int64  \n",
      " 13  Has Online delivery   7527 non-null   int64  \n",
      " 14  Is delivering now     7527 non-null   int64  \n",
      " 15  Switch to order menu  7527 non-null   int64  \n",
      " 16  Price range           7527 non-null   int64  \n",
      " 17  Aggregate rating      7527 non-null   float64\n",
      " 18  Rating color          7527 non-null   object \n",
      " 19  Rating text           7527 non-null   object \n",
      " 20  Votes                 7527 non-null   int64  \n",
      "dtypes: float64(3), int64(9), object(9)\n",
      "memory usage: 1.2+ MB\n"
     ]
    }
   ],
   "source": [
    "df1.info()"
   ]
  },
  {
   "cell_type": "code",
   "execution_count": 6,
   "metadata": {},
   "outputs": [
    {
     "data": {
      "text/plain": [
       "Restaurant ID            0\n",
       "Restaurant Name          0\n",
       "Country Code             0\n",
       "City                     0\n",
       "Address                  0\n",
       "Locality                 0\n",
       "Locality Verbose         0\n",
       "Longitude                0\n",
       "Latitude                 0\n",
       "Cuisines                15\n",
       "Average Cost for two     0\n",
       "Currency                 0\n",
       "Has Table booking        0\n",
       "Has Online delivery      0\n",
       "Is delivering now        0\n",
       "Switch to order menu     0\n",
       "Price range              0\n",
       "Aggregate rating         0\n",
       "Rating color             0\n",
       "Rating text              0\n",
       "Votes                    0\n",
       "dtype: int64"
      ]
     },
     "execution_count": 6,
     "metadata": {},
     "output_type": "execute_result"
    }
   ],
   "source": [
    "df1.isnull().sum()"
   ]
  },
  {
   "cell_type": "code",
   "execution_count": 7,
   "metadata": {},
   "outputs": [
    {
     "data": {
      "text/plain": [
       "585"
      ]
     },
     "execution_count": 7,
     "metadata": {},
     "output_type": "execute_result"
    }
   ],
   "source": [
    "df1.duplicated().sum()"
   ]
  },
  {
   "cell_type": "code",
   "execution_count": 8,
   "metadata": {},
   "outputs": [
    {
     "name": "stdout",
     "output_type": "stream",
     "text": [
      "\u001b[1mColuna:\u001b[0m Restaurant ID - \u001b[1mValores únicos:\u001b[0m 6942 - \u001b[1mdType:\u001b[0m int64\n",
      "\n",
      "[6310675 6314542 6301293 ... 5923535 5914190 5913508]\n",
      "\n",
      " ----------------\n",
      "\u001b[1mColuna:\u001b[0m Restaurant Name - \u001b[1mValores únicos:\u001b[0m 5914 - \u001b[1mdType:\u001b[0m object\n",
      "\n",
      "[\"Mama Lou's Italian Kitchen\" 'Blackbird' 'Banapple' ...\n",
      " 'Boon Cafe & Restaurant' 'Kanaat Lokantası' 'Katibim']\n",
      "\n",
      " ----------------\n",
      "\u001b[1mColuna:\u001b[0m Country Code - \u001b[1mValores únicos:\u001b[0m 15 - \u001b[1mdType:\u001b[0m int64\n",
      "\n",
      "[162  30  14 216  37 184 214   1  94 148 215 166 189 191 208]\n",
      "\n",
      " ----------------\n",
      "\u001b[1mColuna:\u001b[0m City - \u001b[1mValores únicos:\u001b[0m 125 - \u001b[1mdType:\u001b[0m object\n",
      "\n",
      "['Las Piñas City' 'Makati City' 'Mandaluyong City' 'Manila'\n",
      " 'Marikina City' 'Muntinlupa City' 'Pasay City' 'Pasig City' 'Quezon City'\n",
      " 'San Juan City' 'Tagaytay City' 'Taguig City' 'Brasília' 'Rio de Janeiro'\n",
      " 'São Paulo' 'Adelaide' 'Atlanta' 'Austin' 'Boston' 'Brisbane' 'Calgary'\n",
      " 'Charlotte' 'Chicago' 'Dallas' 'Denver' 'Detroit' 'Houston' 'Las Vegas'\n",
      " 'Los Angeles' 'Miami' 'Montreal' 'New Orleans' 'New York City' 'Ottawa'\n",
      " 'Perth' 'Philadelphia' 'Phoenix' 'Portland' 'San Antonio' 'San Diego'\n",
      " 'San Francisco' 'Seattle' 'Singapore' 'Washington DC' 'Abu Dhabi' 'Dubai'\n",
      " 'Fujairah' 'Sharjah' 'Agra' 'Ahmedabad' 'Allahabad' 'Amritsar'\n",
      " 'Aurangabad' 'Bangalore' 'Bhopal' 'Bhubaneshwar' 'Chandigarh' 'Chennai'\n",
      " 'Coimbatore' 'Dehradun' 'Gandhinagar' 'Gangtok' 'Ghaziabad' 'Goa'\n",
      " 'Gurgaon' 'Guwahati' 'Hyderabad' 'Indore' 'Jaipur' 'Kanpur' 'Kochi'\n",
      " 'Kolkata' 'Lucknow' 'Ludhiana' 'Mangalore' 'Mohali' 'Mumbai' 'Mysore'\n",
      " 'Nagpur' 'Nashik' 'Nasik' 'New Delhi' 'Noida' 'Ooty' 'Panchkula' 'Patna'\n",
      " 'Puducherry' 'Pune' 'Ranchi' 'Secunderabad' 'Shimla' 'Surat' 'Thane'\n",
      " 'Vadodara' 'Varanasi' 'Vizag' 'Zirakpur' 'Bogor' 'Jakarta' 'Tangerang'\n",
      " 'Auckland' 'Hamilton' 'Wellington' 'Wellington City' 'Birmingham'\n",
      " 'Edinburgh' 'Glasgow' 'London' 'Manchester' 'Doha' 'Cape Town' 'Clarens'\n",
      " 'Durban' 'East Rand' 'Inner City' 'Johannesburg' 'Johannesburg South'\n",
      " 'Midrand' 'Pretoria' 'Randburg' 'Roodepoort' 'Sandton' 'Colombo' 'Ankara'\n",
      " 'İstanbul']\n",
      "\n",
      " ----------------\n",
      "\u001b[1mColuna:\u001b[0m Address - \u001b[1mValores únicos:\u001b[0m 6760 - \u001b[1mdType:\u001b[0m object\n",
      "\n",
      "['Block 1, Lot 36, Tropical Avenue Corner Tropical Palace, BF International, Las Piñas City'\n",
      " 'Nielson Tower, Ayala Triangle Gardens, Salcedo Village, Makati City'\n",
      " 'Ayala Triangle Gardens, Salcedo Village, Makati City' ...\n",
      " 'Çengelköy Mahallesi, Çengelköy Caddesi, Kara Sokak, No 1/A, Üsküdar, İstanbul'\n",
      " 'Sultantepe Mahallesi, Selmani Pak Caddesi, No 9, Üsküdar, İstanbul'\n",
      " 'Mimar Sinan Mahallesi, Harem Sahilyolu, No 53, Üsküdar, İstanbul']\n",
      "\n",
      " ----------------\n",
      "\u001b[1mColuna:\u001b[0m Locality - \u001b[1mValores únicos:\u001b[0m 2272 - \u001b[1mdType:\u001b[0m object\n",
      "\n",
      "['BF International' 'Ayala Triangle Gardens, Salcedo Village, Makati City'\n",
      " 'Century City Mall, Poblacion, Makati City' ...\n",
      " 'Zorlu Center AVM, Levazım, Beşiktaş' 'Çengelköy Merkez' 'Üsküdar Merkez']\n",
      "\n",
      " ----------------\n",
      "\u001b[1mColuna:\u001b[0m Locality Verbose - \u001b[1mValores únicos:\u001b[0m 2357 - \u001b[1mdType:\u001b[0m object\n",
      "\n",
      "['BF International, Las Piñas City'\n",
      " 'Ayala Triangle Gardens, Salcedo Village, Makati City, Makati City'\n",
      " 'Century City Mall, Poblacion, Makati City, Makati City' ...\n",
      " 'Zorlu Center AVM, Levazım, Beşiktaş, İstanbul'\n",
      " 'Çengelköy Merkez, İstanbul' 'Üsküdar Merkez, İstanbul']\n",
      "\n",
      " ----------------\n",
      "\u001b[1mColuna:\u001b[0m Longitude - \u001b[1mValores únicos:\u001b[0m 6846 - \u001b[1mdType:\u001b[0m float64\n",
      "\n",
      "[121.00978687 121.02456182 121.0231711  ...  29.05262288  29.01659042\n",
      "  29.01080757]\n",
      "\n",
      " ----------------\n",
      "\u001b[1mColuna:\u001b[0m Latitude - \u001b[1mValores únicos:\u001b[0m 6833 - \u001b[1mdType:\u001b[0m float64\n",
      "\n",
      "[14.44761493 14.55604233 14.55619647 ... 41.05071678 41.02574093\n",
      " 41.02550115]\n",
      "\n",
      " ----------------\n",
      "\u001b[1mColuna:\u001b[0m Cuisines - \u001b[1mValores únicos:\u001b[0m 2833 - \u001b[1mdType:\u001b[0m object\n",
      "\n",
      "['Italian' 'European, Asian' 'Filipino, American, Italian, Bakery' ...\n",
      " 'Fast Food, Izgara, Seafood, Tea, Coffee' 'Home-made, Izgara'\n",
      " 'Restaurant Cafe, Kebab, Turkish Pizza']\n",
      "\n",
      " ----------------\n",
      "\u001b[1mColuna:\u001b[0m Average Cost for two - \u001b[1mValores únicos:\u001b[0m 156 - \u001b[1mdType:\u001b[0m int64\n",
      "\n",
      "[    1100     3100      800      700     1300     1000     1600     1200\n",
      "     1500     1450     1776      600     2000     6000     1800      850\n",
      "      500      400     1400     3000      100       50       55       80\n",
      "      300       60      150       90       30       45      200       35\n",
      "      140       40      170      130      250      120       70      180\n",
      "      160      230       95      240      220       15      350        0\n",
      "      280      380       25       85      260      110       96       65\n",
      " 25000017       75       10       20      275      105      165      115\n",
      "      175      650      330      139       44      125      440      210\n",
      "       43      135      215      490      315      290      340      270\n",
      "      755       38      225      190      155      185      145      375\n",
      "      195      385      450      460      285      415      620      305\n",
      "      550      360      370      410      900      950      750     1650\n",
      "     1700     2400     2500     1250     1900     1950     1350     2700\n",
      "     2800     2200     4000     2100     2300      640   200000   150000\n",
      "   350000   130000   100000   250000   240000   450000   600000   550000\n",
      "   180000  1200000   400000    80000   330000   300000   500000   160000\n",
      "   700000       12      368      320      645      495      570      480\n",
      "      390      358      560      590      467     3210      430      870\n",
      "     3500     5000     4500     4750]\n",
      "\n",
      " ----------------\n",
      "\u001b[1mColuna:\u001b[0m Currency - \u001b[1mValores únicos:\u001b[0m 12 - \u001b[1mdType:\u001b[0m object\n",
      "\n",
      "['Botswana Pula(P)' 'Brazilian Real(R$)' 'Dollar($)' 'Emirati Diram(AED)'\n",
      " 'Indian Rupees(Rs.)' 'Indonesian Rupiah(IDR)' 'NewZealand($)' 'Pounds(£)'\n",
      " 'Qatari Rial(QR)' 'Rand(R)' 'Sri Lankan Rupee(LKR)' 'Turkish Lira(TL)']\n",
      "\n",
      " ----------------\n",
      "\u001b[1mColuna:\u001b[0m Has Table booking - \u001b[1mValores únicos:\u001b[0m 2 - \u001b[1mdType:\u001b[0m int64\n",
      "\n",
      "[1 0]\n",
      "\n",
      " ----------------\n",
      "\u001b[1mColuna:\u001b[0m Has Online delivery - \u001b[1mValores únicos:\u001b[0m 2 - \u001b[1mdType:\u001b[0m int64\n",
      "\n",
      "[0 1]\n",
      "\n",
      " ----------------\n",
      "\u001b[1mColuna:\u001b[0m Is delivering now - \u001b[1mValores únicos:\u001b[0m 2 - \u001b[1mdType:\u001b[0m int64\n",
      "\n",
      "[0 1]\n",
      "\n",
      " ----------------\n",
      "\u001b[1mColuna:\u001b[0m Switch to order menu - \u001b[1mValores únicos:\u001b[0m 1 - \u001b[1mdType:\u001b[0m int64\n",
      "\n",
      "[0]\n",
      "\n",
      " ----------------\n",
      "\u001b[1mColuna:\u001b[0m Price range - \u001b[1mValores únicos:\u001b[0m 4 - \u001b[1mdType:\u001b[0m int64\n",
      "\n",
      "[3 4 2 1]\n",
      "\n",
      " ----------------\n",
      "\u001b[1mColuna:\u001b[0m Aggregate rating - \u001b[1mValores únicos:\u001b[0m 30 - \u001b[1mdType:\u001b[0m float64\n",
      "\n",
      "[4.6 4.7 4.4 4.  4.3 4.1 4.5 4.2 4.9 3.9 4.8 3.2 3.3 2.5 3.1 3.8 3.6 3.7\n",
      " 3.5 0.  2.8 2.7 3.4 2.9 2.4 2.3 2.6 3.  2.2 2.1]\n",
      "\n",
      " ----------------\n",
      "\u001b[1mColuna:\u001b[0m Rating color - \u001b[1mValores únicos:\u001b[0m 7 - \u001b[1mdType:\u001b[0m object\n",
      "\n",
      "['3F7E00' '5BA829' '9ACD32' 'CDD614' 'FFBA00' 'CBCBC8' 'FF7800']\n",
      "\n",
      " ----------------\n",
      "\u001b[1mColuna:\u001b[0m Rating text - \u001b[1mValores únicos:\u001b[0m 28 - \u001b[1mdType:\u001b[0m object\n",
      "\n",
      "['Excellent' 'Very Good' 'Good' 'Excelente' 'Muito bom' 'Average'\n",
      " 'Not rated' 'Poor' 'Vynikajúce' 'Muito Bom' 'Bardzo dobrze' 'Muy Bueno'\n",
      " 'Bueno' 'Baik' 'Biasa' 'Skvělá volba' 'Velmi dobré' 'Harika' 'Çok iyi'\n",
      " 'Eccellente' 'Veľmi dobré' 'Buono' 'Bom' 'Skvělé' 'Wybitnie'\n",
      " 'Sangat Baik' 'Terbaik' 'İyi']\n",
      "\n",
      " ----------------\n",
      "\u001b[1mColuna:\u001b[0m Votes - \u001b[1mValores únicos:\u001b[0m 1739 - \u001b[1mdType:\u001b[0m int64\n",
      "\n",
      "[ 619  469  867 ... 1367 1160 1141]\n",
      "\n",
      " ----------------\n"
     ]
    }
   ],
   "source": [
    "for column in df1.columns:\n",
    "    print(f'\\033[1mColuna:\\033[0m {column} - \\033[1mValores únicos:\\033[0m {len(df1[column].unique())} - \\033[1mdType:\\033[0m {df1[column].dtype}\\n')\n",
    "    print(df1[column].unique())\n",
    "    print('\\n ----------------')"
   ]
  },
  {
   "cell_type": "code",
   "execution_count": 9,
   "metadata": {},
   "outputs": [
    {
     "data": {
      "text/html": [
       "<div>\n",
       "<style scoped>\n",
       "    .dataframe tbody tr th:only-of-type {\n",
       "        vertical-align: middle;\n",
       "    }\n",
       "\n",
       "    .dataframe tbody tr th {\n",
       "        vertical-align: top;\n",
       "    }\n",
       "\n",
       "    .dataframe thead th {\n",
       "        text-align: right;\n",
       "    }\n",
       "</style>\n",
       "<table border=\"1\" class=\"dataframe\">\n",
       "  <thead>\n",
       "    <tr style=\"text-align: right;\">\n",
       "      <th></th>\n",
       "      <th>Restaurant ID</th>\n",
       "      <th>Country Code</th>\n",
       "      <th>Longitude</th>\n",
       "      <th>Latitude</th>\n",
       "      <th>Average Cost for two</th>\n",
       "      <th>Has Table booking</th>\n",
       "      <th>Has Online delivery</th>\n",
       "      <th>Is delivering now</th>\n",
       "      <th>Switch to order menu</th>\n",
       "      <th>Price range</th>\n",
       "      <th>Aggregate rating</th>\n",
       "      <th>Votes</th>\n",
       "    </tr>\n",
       "  </thead>\n",
       "  <tbody>\n",
       "    <tr>\n",
       "      <th>count</th>\n",
       "      <td>7527.00</td>\n",
       "      <td>7527.00</td>\n",
       "      <td>7527.00</td>\n",
       "      <td>7527.00</td>\n",
       "      <td>7527.00</td>\n",
       "      <td>7527.00</td>\n",
       "      <td>7527.00</td>\n",
       "      <td>7527.00</td>\n",
       "      <td>7527.00</td>\n",
       "      <td>7527.00</td>\n",
       "      <td>7527.00</td>\n",
       "      <td>7527.00</td>\n",
       "    </tr>\n",
       "    <tr>\n",
       "      <th>mean</th>\n",
       "      <td>10556892.00</td>\n",
       "      <td>93.07</td>\n",
       "      <td>33.76</td>\n",
       "      <td>19.33</td>\n",
       "      <td>7152.11</td>\n",
       "      <td>0.06</td>\n",
       "      <td>0.35</td>\n",
       "      <td>0.17</td>\n",
       "      <td>0.00</td>\n",
       "      <td>2.62</td>\n",
       "      <td>4.12</td>\n",
       "      <td>616.40</td>\n",
       "    </tr>\n",
       "    <tr>\n",
       "      <th>std</th>\n",
       "      <td>7075141.13</td>\n",
       "      <td>99.03</td>\n",
       "      <td>77.40</td>\n",
       "      <td>23.26</td>\n",
       "      <td>290606.83</td>\n",
       "      <td>0.24</td>\n",
       "      <td>0.48</td>\n",
       "      <td>0.38</td>\n",
       "      <td>0.00</td>\n",
       "      <td>0.96</td>\n",
       "      <td>0.68</td>\n",
       "      <td>1127.70</td>\n",
       "    </tr>\n",
       "    <tr>\n",
       "      <th>min</th>\n",
       "      <td>549.00</td>\n",
       "      <td>1.00</td>\n",
       "      <td>-122.70</td>\n",
       "      <td>-41.33</td>\n",
       "      <td>0.00</td>\n",
       "      <td>0.00</td>\n",
       "      <td>0.00</td>\n",
       "      <td>0.00</td>\n",
       "      <td>0.00</td>\n",
       "      <td>1.00</td>\n",
       "      <td>0.00</td>\n",
       "      <td>0.00</td>\n",
       "    </tr>\n",
       "    <tr>\n",
       "      <th>25%</th>\n",
       "      <td>3500060.00</td>\n",
       "      <td>1.00</td>\n",
       "      <td>-4.26</td>\n",
       "      <td>12.92</td>\n",
       "      <td>60.00</td>\n",
       "      <td>0.00</td>\n",
       "      <td>0.00</td>\n",
       "      <td>0.00</td>\n",
       "      <td>0.00</td>\n",
       "      <td>2.00</td>\n",
       "      <td>4.00</td>\n",
       "      <td>152.00</td>\n",
       "    </tr>\n",
       "    <tr>\n",
       "      <th>50%</th>\n",
       "      <td>7701457.00</td>\n",
       "      <td>30.00</td>\n",
       "      <td>73.79</td>\n",
       "      <td>25.25</td>\n",
       "      <td>290.00</td>\n",
       "      <td>0.00</td>\n",
       "      <td>0.00</td>\n",
       "      <td>0.00</td>\n",
       "      <td>0.00</td>\n",
       "      <td>3.00</td>\n",
       "      <td>4.20</td>\n",
       "      <td>335.00</td>\n",
       "    </tr>\n",
       "    <tr>\n",
       "      <th>75%</th>\n",
       "      <td>17147150.50</td>\n",
       "      <td>214.00</td>\n",
       "      <td>79.83</td>\n",
       "      <td>31.64</td>\n",
       "      <td>600.00</td>\n",
       "      <td>0.00</td>\n",
       "      <td>1.00</td>\n",
       "      <td>0.00</td>\n",
       "      <td>0.00</td>\n",
       "      <td>3.00</td>\n",
       "      <td>4.50</td>\n",
       "      <td>663.00</td>\n",
       "    </tr>\n",
       "    <tr>\n",
       "      <th>max</th>\n",
       "      <td>19040277.00</td>\n",
       "      <td>216.00</td>\n",
       "      <td>175.31</td>\n",
       "      <td>55.98</td>\n",
       "      <td>25000017.00</td>\n",
       "      <td>1.00</td>\n",
       "      <td>1.00</td>\n",
       "      <td>1.00</td>\n",
       "      <td>0.00</td>\n",
       "      <td>4.00</td>\n",
       "      <td>4.90</td>\n",
       "      <td>41333.00</td>\n",
       "    </tr>\n",
       "  </tbody>\n",
       "</table>\n",
       "</div>"
      ],
      "text/plain": [
       "       Restaurant ID  Country Code  Longitude  Latitude  Average Cost for two  \\\n",
       "count        7527.00       7527.00    7527.00   7527.00               7527.00   \n",
       "mean     10556892.00         93.07      33.76     19.33               7152.11   \n",
       "std       7075141.13         99.03      77.40     23.26             290606.83   \n",
       "min           549.00          1.00    -122.70    -41.33                  0.00   \n",
       "25%       3500060.00          1.00      -4.26     12.92                 60.00   \n",
       "50%       7701457.00         30.00      73.79     25.25                290.00   \n",
       "75%      17147150.50        214.00      79.83     31.64                600.00   \n",
       "max      19040277.00        216.00     175.31     55.98           25000017.00   \n",
       "\n",
       "       Has Table booking  Has Online delivery  Is delivering now  \\\n",
       "count            7527.00              7527.00            7527.00   \n",
       "mean                0.06                 0.35               0.17   \n",
       "std                 0.24                 0.48               0.38   \n",
       "min                 0.00                 0.00               0.00   \n",
       "25%                 0.00                 0.00               0.00   \n",
       "50%                 0.00                 0.00               0.00   \n",
       "75%                 0.00                 1.00               0.00   \n",
       "max                 1.00                 1.00               1.00   \n",
       "\n",
       "       Switch to order menu  Price range  Aggregate rating    Votes  \n",
       "count               7527.00      7527.00           7527.00  7527.00  \n",
       "mean                   0.00         2.62              4.12   616.40  \n",
       "std                    0.00         0.96              0.68  1127.70  \n",
       "min                    0.00         1.00              0.00     0.00  \n",
       "25%                    0.00         2.00              4.00   152.00  \n",
       "50%                    0.00         3.00              4.20   335.00  \n",
       "75%                    0.00         3.00              4.50   663.00  \n",
       "max                    0.00         4.00              4.90 41333.00  "
      ]
     },
     "execution_count": 9,
     "metadata": {},
     "output_type": "execute_result"
    }
   ],
   "source": [
    "df1.describe()"
   ]
  },
  {
   "cell_type": "markdown",
   "metadata": {},
   "source": [
    "##### Erros encontrados\n",
    "\n",
    "- Cuisines possui 15 linhas nulas (investigar)\n",
    "- O dataset possui 585 linhas duplicadas\n",
    "- Colunas com espaço nos nomes\n",
    "- Switch to order menu possui apenas 1 valor em todas as linhas\n",
    "- Possível outlier na coluna average cost for two\n",
    "- Talvez converter a coluna `average cost for two` para dolar de acordo com a `currency`?\n",
    "\n",
    "\n",
    "##### Sugestões CEO\n",
    "\n",
    "- Transformar Country Code no nome dos países\n",
    "- Transformar Código das cores no nome das cores\n",
    "- Categorizar o price_range\n",
    "- Utilizar apenas o primeiro tipo de \"Cuisine\" para restaurantes que possuam mais de um"
   ]
  },
  {
   "cell_type": "markdown",
   "metadata": {},
   "source": [
    "# Data Cleaning"
   ]
  },
  {
   "cell_type": "code",
   "execution_count": 10,
   "metadata": {},
   "outputs": [],
   "source": [
    "# Linhas Nulas\n",
    "\n",
    "df1.dropna(inplace=True)"
   ]
  },
  {
   "cell_type": "code",
   "execution_count": 11,
   "metadata": {},
   "outputs": [],
   "source": [
    "# Linhas duplicadas\n",
    "\n",
    "df1.drop_duplicates(inplace=True)"
   ]
  },
  {
   "cell_type": "code",
   "execution_count": 12,
   "metadata": {},
   "outputs": [],
   "source": [
    "# A coluna Switch to order menu não possui nenhuma informação\n",
    "\n",
    "df1.drop('Switch to order menu', axis=1, inplace=True)"
   ]
  },
  {
   "cell_type": "code",
   "execution_count": 13,
   "metadata": {},
   "outputs": [
    {
     "data": {
      "text/plain": [
       "(6929, 20)"
      ]
     },
     "execution_count": 13,
     "metadata": {},
     "output_type": "execute_result"
    }
   ],
   "source": [
    "df1.shape"
   ]
  },
  {
   "cell_type": "code",
   "execution_count": 14,
   "metadata": {},
   "outputs": [],
   "source": [
    "# Ajeitando o nome das colunas\n",
    "df1.columns = list(map(lambda x: inflection.titleize(x), df1.columns))\n",
    "df1.columns = list(map(lambda x: x.replace(\" \", \"\"), df1.columns))\n",
    "df1.columns = list(map(lambda x: inflection.underscore(x), df1.columns))"
   ]
  },
  {
   "cell_type": "code",
   "execution_count": 15,
   "metadata": {},
   "outputs": [
    {
     "data": {
      "text/plain": [
       "Index(['restaurant_id', 'restaurant_name', 'country_code', 'city', 'address',\n",
       "       'locality', 'locality_verbose', 'longitude', 'latitude', 'cuisines',\n",
       "       'average_cost_for_two', 'currency', 'has_table_booking',\n",
       "       'has_online_delivery', 'is_delivering_now', 'price_range',\n",
       "       'aggregate_rating', 'rating_color', 'rating_text', 'votes'],\n",
       "      dtype='object')"
      ]
     },
     "execution_count": 15,
     "metadata": {},
     "output_type": "execute_result"
    }
   ],
   "source": [
    "df1.columns"
   ]
  },
  {
   "cell_type": "code",
   "execution_count": 16,
   "metadata": {},
   "outputs": [
    {
     "data": {
      "text/html": [
       "<div>\n",
       "<style scoped>\n",
       "    .dataframe tbody tr th:only-of-type {\n",
       "        vertical-align: middle;\n",
       "    }\n",
       "\n",
       "    .dataframe tbody tr th {\n",
       "        vertical-align: top;\n",
       "    }\n",
       "\n",
       "    .dataframe thead th {\n",
       "        text-align: right;\n",
       "    }\n",
       "</style>\n",
       "<table border=\"1\" class=\"dataframe\">\n",
       "  <thead>\n",
       "    <tr style=\"text-align: right;\">\n",
       "      <th></th>\n",
       "      <th>restaurant_id</th>\n",
       "      <th>restaurant_name</th>\n",
       "      <th>country</th>\n",
       "      <th>city</th>\n",
       "      <th>address</th>\n",
       "      <th>locality</th>\n",
       "      <th>locality_verbose</th>\n",
       "      <th>longitude</th>\n",
       "      <th>latitude</th>\n",
       "      <th>cuisines</th>\n",
       "      <th>average_cost_for_two</th>\n",
       "      <th>currency</th>\n",
       "      <th>has_table_booking</th>\n",
       "      <th>has_online_delivery</th>\n",
       "      <th>is_delivering_now</th>\n",
       "      <th>price_range</th>\n",
       "      <th>aggregate_rating</th>\n",
       "      <th>rating_color</th>\n",
       "      <th>rating_text</th>\n",
       "      <th>votes</th>\n",
       "    </tr>\n",
       "  </thead>\n",
       "  <tbody>\n",
       "    <tr>\n",
       "      <th>0</th>\n",
       "      <td>6310675</td>\n",
       "      <td>Mama Lou's Italian Kitchen</td>\n",
       "      <td>Philippines</td>\n",
       "      <td>Las Piñas City</td>\n",
       "      <td>Block 1, Lot 36, Tropical Avenue Corner Tropic...</td>\n",
       "      <td>BF International</td>\n",
       "      <td>BF International, Las Piñas City</td>\n",
       "      <td>121.01</td>\n",
       "      <td>14.45</td>\n",
       "      <td>Italian</td>\n",
       "      <td>1100</td>\n",
       "      <td>Botswana Pula(P)</td>\n",
       "      <td>1</td>\n",
       "      <td>0</td>\n",
       "      <td>0</td>\n",
       "      <td>3</td>\n",
       "      <td>4.60</td>\n",
       "      <td>3F7E00</td>\n",
       "      <td>Excellent</td>\n",
       "      <td>619</td>\n",
       "    </tr>\n",
       "    <tr>\n",
       "      <th>2</th>\n",
       "      <td>6314542</td>\n",
       "      <td>Blackbird</td>\n",
       "      <td>Philippines</td>\n",
       "      <td>Makati City</td>\n",
       "      <td>Nielson Tower, Ayala Triangle Gardens, Salcedo...</td>\n",
       "      <td>Ayala Triangle Gardens, Salcedo Village, Makat...</td>\n",
       "      <td>Ayala Triangle Gardens, Salcedo Village, Makat...</td>\n",
       "      <td>121.02</td>\n",
       "      <td>14.56</td>\n",
       "      <td>European, Asian</td>\n",
       "      <td>3100</td>\n",
       "      <td>Botswana Pula(P)</td>\n",
       "      <td>0</td>\n",
       "      <td>0</td>\n",
       "      <td>0</td>\n",
       "      <td>4</td>\n",
       "      <td>4.70</td>\n",
       "      <td>3F7E00</td>\n",
       "      <td>Excellent</td>\n",
       "      <td>469</td>\n",
       "    </tr>\n",
       "    <tr>\n",
       "      <th>3</th>\n",
       "      <td>6301293</td>\n",
       "      <td>Banapple</td>\n",
       "      <td>Philippines</td>\n",
       "      <td>Makati City</td>\n",
       "      <td>Ayala Triangle Gardens, Salcedo Village, Makat...</td>\n",
       "      <td>Ayala Triangle Gardens, Salcedo Village, Makat...</td>\n",
       "      <td>Ayala Triangle Gardens, Salcedo Village, Makat...</td>\n",
       "      <td>121.02</td>\n",
       "      <td>14.56</td>\n",
       "      <td>Filipino, American, Italian, Bakery</td>\n",
       "      <td>800</td>\n",
       "      <td>Botswana Pula(P)</td>\n",
       "      <td>0</td>\n",
       "      <td>0</td>\n",
       "      <td>0</td>\n",
       "      <td>3</td>\n",
       "      <td>4.40</td>\n",
       "      <td>5BA829</td>\n",
       "      <td>Very Good</td>\n",
       "      <td>867</td>\n",
       "    </tr>\n",
       "    <tr>\n",
       "      <th>4</th>\n",
       "      <td>6315689</td>\n",
       "      <td>Bad Bird</td>\n",
       "      <td>Philippines</td>\n",
       "      <td>Makati City</td>\n",
       "      <td>Hole In The Wall, Floor 4, Century City Mall, ...</td>\n",
       "      <td>Century City Mall, Poblacion, Makati City</td>\n",
       "      <td>Century City Mall, Poblacion, Makati City, Mak...</td>\n",
       "      <td>121.03</td>\n",
       "      <td>14.57</td>\n",
       "      <td>American</td>\n",
       "      <td>700</td>\n",
       "      <td>Botswana Pula(P)</td>\n",
       "      <td>0</td>\n",
       "      <td>0</td>\n",
       "      <td>0</td>\n",
       "      <td>3</td>\n",
       "      <td>4.40</td>\n",
       "      <td>5BA829</td>\n",
       "      <td>Very Good</td>\n",
       "      <td>858</td>\n",
       "    </tr>\n",
       "    <tr>\n",
       "      <th>5</th>\n",
       "      <td>6304833</td>\n",
       "      <td>Manam</td>\n",
       "      <td>Philippines</td>\n",
       "      <td>Makati City</td>\n",
       "      <td>Level 1, Greenbelt 2, Ayala Center, Greenbelt,...</td>\n",
       "      <td>Greenbelt 2, San Lorenzo, Makati City</td>\n",
       "      <td>Greenbelt 2, San Lorenzo, Makati City, Makati ...</td>\n",
       "      <td>121.02</td>\n",
       "      <td>14.55</td>\n",
       "      <td>Filipino</td>\n",
       "      <td>700</td>\n",
       "      <td>Botswana Pula(P)</td>\n",
       "      <td>0</td>\n",
       "      <td>0</td>\n",
       "      <td>0</td>\n",
       "      <td>3</td>\n",
       "      <td>4.70</td>\n",
       "      <td>3F7E00</td>\n",
       "      <td>Excellent</td>\n",
       "      <td>930</td>\n",
       "    </tr>\n",
       "  </tbody>\n",
       "</table>\n",
       "</div>"
      ],
      "text/plain": [
       "   restaurant_id             restaurant_name      country            city  \\\n",
       "0        6310675  Mama Lou's Italian Kitchen  Philippines  Las Piñas City   \n",
       "2        6314542                   Blackbird  Philippines     Makati City   \n",
       "3        6301293                    Banapple  Philippines     Makati City   \n",
       "4        6315689                    Bad Bird  Philippines     Makati City   \n",
       "5        6304833                       Manam  Philippines     Makati City   \n",
       "\n",
       "                                             address  \\\n",
       "0  Block 1, Lot 36, Tropical Avenue Corner Tropic...   \n",
       "2  Nielson Tower, Ayala Triangle Gardens, Salcedo...   \n",
       "3  Ayala Triangle Gardens, Salcedo Village, Makat...   \n",
       "4  Hole In The Wall, Floor 4, Century City Mall, ...   \n",
       "5  Level 1, Greenbelt 2, Ayala Center, Greenbelt,...   \n",
       "\n",
       "                                            locality  \\\n",
       "0                                   BF International   \n",
       "2  Ayala Triangle Gardens, Salcedo Village, Makat...   \n",
       "3  Ayala Triangle Gardens, Salcedo Village, Makat...   \n",
       "4          Century City Mall, Poblacion, Makati City   \n",
       "5              Greenbelt 2, San Lorenzo, Makati City   \n",
       "\n",
       "                                    locality_verbose  longitude  latitude  \\\n",
       "0                   BF International, Las Piñas City     121.01     14.45   \n",
       "2  Ayala Triangle Gardens, Salcedo Village, Makat...     121.02     14.56   \n",
       "3  Ayala Triangle Gardens, Salcedo Village, Makat...     121.02     14.56   \n",
       "4  Century City Mall, Poblacion, Makati City, Mak...     121.03     14.57   \n",
       "5  Greenbelt 2, San Lorenzo, Makati City, Makati ...     121.02     14.55   \n",
       "\n",
       "                              cuisines  average_cost_for_two  \\\n",
       "0                              Italian                  1100   \n",
       "2                      European, Asian                  3100   \n",
       "3  Filipino, American, Italian, Bakery                   800   \n",
       "4                             American                   700   \n",
       "5                             Filipino                   700   \n",
       "\n",
       "           currency  has_table_booking  has_online_delivery  \\\n",
       "0  Botswana Pula(P)                  1                    0   \n",
       "2  Botswana Pula(P)                  0                    0   \n",
       "3  Botswana Pula(P)                  0                    0   \n",
       "4  Botswana Pula(P)                  0                    0   \n",
       "5  Botswana Pula(P)                  0                    0   \n",
       "\n",
       "   is_delivering_now  price_range  aggregate_rating rating_color rating_text  \\\n",
       "0                  0            3              4.60       3F7E00   Excellent   \n",
       "2                  0            4              4.70       3F7E00   Excellent   \n",
       "3                  0            3              4.40       5BA829   Very Good   \n",
       "4                  0            3              4.40       5BA829   Very Good   \n",
       "5                  0            3              4.70       3F7E00   Excellent   \n",
       "\n",
       "   votes  \n",
       "0    619  \n",
       "2    469  \n",
       "3    867  \n",
       "4    858  \n",
       "5    930  "
      ]
     },
     "execution_count": 16,
     "metadata": {},
     "output_type": "execute_result"
    }
   ],
   "source": [
    "# Transformando Country Code\n",
    "countries = {\n",
    "1: \"India\",\n",
    "14: \"Australia\",\n",
    "30: \"Brazil\",\n",
    "37: \"Canada\",\n",
    "94: \"Indonesia\",\n",
    "148: \"New Zeland\",\n",
    "162: \"Philippines\",\n",
    "166: \"Qatar\",\n",
    "184: \"Singapure\",\n",
    "189: \"South Africa\",\n",
    "191: \"Sri Lanka\",\n",
    "208: \"Turkey\",\n",
    "214: \"United Arab Emirates\",\n",
    "215: \"England\",\n",
    "216: \"United States of America\",\n",
    "}\n",
    "\n",
    "df1['country_code'] = df1['country_code'].apply(lambda x: countries[x])\n",
    "df1.rename(columns={'country_code':'country'}, inplace=True)\n",
    "df1.head()"
   ]
  },
  {
   "cell_type": "code",
   "execution_count": 17,
   "metadata": {},
   "outputs": [
    {
     "data": {
      "text/html": [
       "<div>\n",
       "<style scoped>\n",
       "    .dataframe tbody tr th:only-of-type {\n",
       "        vertical-align: middle;\n",
       "    }\n",
       "\n",
       "    .dataframe tbody tr th {\n",
       "        vertical-align: top;\n",
       "    }\n",
       "\n",
       "    .dataframe thead th {\n",
       "        text-align: right;\n",
       "    }\n",
       "</style>\n",
       "<table border=\"1\" class=\"dataframe\">\n",
       "  <thead>\n",
       "    <tr style=\"text-align: right;\">\n",
       "      <th></th>\n",
       "      <th>restaurant_id</th>\n",
       "      <th>restaurant_name</th>\n",
       "      <th>country</th>\n",
       "      <th>city</th>\n",
       "      <th>address</th>\n",
       "      <th>locality</th>\n",
       "      <th>locality_verbose</th>\n",
       "      <th>longitude</th>\n",
       "      <th>latitude</th>\n",
       "      <th>cuisines</th>\n",
       "      <th>average_cost_for_two</th>\n",
       "      <th>currency</th>\n",
       "      <th>has_table_booking</th>\n",
       "      <th>has_online_delivery</th>\n",
       "      <th>is_delivering_now</th>\n",
       "      <th>price_range</th>\n",
       "      <th>aggregate_rating</th>\n",
       "      <th>rating_color</th>\n",
       "      <th>rating_text</th>\n",
       "      <th>votes</th>\n",
       "    </tr>\n",
       "  </thead>\n",
       "  <tbody>\n",
       "    <tr>\n",
       "      <th>0</th>\n",
       "      <td>6310675</td>\n",
       "      <td>Mama Lou's Italian Kitchen</td>\n",
       "      <td>Philippines</td>\n",
       "      <td>Las Piñas City</td>\n",
       "      <td>Block 1, Lot 36, Tropical Avenue Corner Tropic...</td>\n",
       "      <td>BF International</td>\n",
       "      <td>BF International, Las Piñas City</td>\n",
       "      <td>121.01</td>\n",
       "      <td>14.45</td>\n",
       "      <td>Italian</td>\n",
       "      <td>1100</td>\n",
       "      <td>Botswana Pula(P)</td>\n",
       "      <td>1</td>\n",
       "      <td>0</td>\n",
       "      <td>0</td>\n",
       "      <td>3</td>\n",
       "      <td>4.60</td>\n",
       "      <td>3F7E00</td>\n",
       "      <td>Excellent</td>\n",
       "      <td>619</td>\n",
       "    </tr>\n",
       "    <tr>\n",
       "      <th>2</th>\n",
       "      <td>6314542</td>\n",
       "      <td>Blackbird</td>\n",
       "      <td>Philippines</td>\n",
       "      <td>Makati City</td>\n",
       "      <td>Nielson Tower, Ayala Triangle Gardens, Salcedo...</td>\n",
       "      <td>Ayala Triangle Gardens, Salcedo Village, Makat...</td>\n",
       "      <td>Ayala Triangle Gardens, Salcedo Village, Makat...</td>\n",
       "      <td>121.02</td>\n",
       "      <td>14.56</td>\n",
       "      <td>European, Asian</td>\n",
       "      <td>3100</td>\n",
       "      <td>Botswana Pula(P)</td>\n",
       "      <td>0</td>\n",
       "      <td>0</td>\n",
       "      <td>0</td>\n",
       "      <td>4</td>\n",
       "      <td>4.70</td>\n",
       "      <td>3F7E00</td>\n",
       "      <td>Excellent</td>\n",
       "      <td>469</td>\n",
       "    </tr>\n",
       "    <tr>\n",
       "      <th>3</th>\n",
       "      <td>6301293</td>\n",
       "      <td>Banapple</td>\n",
       "      <td>Philippines</td>\n",
       "      <td>Makati City</td>\n",
       "      <td>Ayala Triangle Gardens, Salcedo Village, Makat...</td>\n",
       "      <td>Ayala Triangle Gardens, Salcedo Village, Makat...</td>\n",
       "      <td>Ayala Triangle Gardens, Salcedo Village, Makat...</td>\n",
       "      <td>121.02</td>\n",
       "      <td>14.56</td>\n",
       "      <td>Filipino, American, Italian, Bakery</td>\n",
       "      <td>800</td>\n",
       "      <td>Botswana Pula(P)</td>\n",
       "      <td>0</td>\n",
       "      <td>0</td>\n",
       "      <td>0</td>\n",
       "      <td>3</td>\n",
       "      <td>4.40</td>\n",
       "      <td>5BA829</td>\n",
       "      <td>Very Good</td>\n",
       "      <td>867</td>\n",
       "    </tr>\n",
       "    <tr>\n",
       "      <th>4</th>\n",
       "      <td>6315689</td>\n",
       "      <td>Bad Bird</td>\n",
       "      <td>Philippines</td>\n",
       "      <td>Makati City</td>\n",
       "      <td>Hole In The Wall, Floor 4, Century City Mall, ...</td>\n",
       "      <td>Century City Mall, Poblacion, Makati City</td>\n",
       "      <td>Century City Mall, Poblacion, Makati City, Mak...</td>\n",
       "      <td>121.03</td>\n",
       "      <td>14.57</td>\n",
       "      <td>American</td>\n",
       "      <td>700</td>\n",
       "      <td>Botswana Pula(P)</td>\n",
       "      <td>0</td>\n",
       "      <td>0</td>\n",
       "      <td>0</td>\n",
       "      <td>3</td>\n",
       "      <td>4.40</td>\n",
       "      <td>5BA829</td>\n",
       "      <td>Very Good</td>\n",
       "      <td>858</td>\n",
       "    </tr>\n",
       "    <tr>\n",
       "      <th>5</th>\n",
       "      <td>6304833</td>\n",
       "      <td>Manam</td>\n",
       "      <td>Philippines</td>\n",
       "      <td>Makati City</td>\n",
       "      <td>Level 1, Greenbelt 2, Ayala Center, Greenbelt,...</td>\n",
       "      <td>Greenbelt 2, San Lorenzo, Makati City</td>\n",
       "      <td>Greenbelt 2, San Lorenzo, Makati City, Makati ...</td>\n",
       "      <td>121.02</td>\n",
       "      <td>14.55</td>\n",
       "      <td>Filipino</td>\n",
       "      <td>700</td>\n",
       "      <td>Botswana Pula(P)</td>\n",
       "      <td>0</td>\n",
       "      <td>0</td>\n",
       "      <td>0</td>\n",
       "      <td>3</td>\n",
       "      <td>4.70</td>\n",
       "      <td>3F7E00</td>\n",
       "      <td>Excellent</td>\n",
       "      <td>930</td>\n",
       "    </tr>\n",
       "  </tbody>\n",
       "</table>\n",
       "</div>"
      ],
      "text/plain": [
       "   restaurant_id             restaurant_name      country            city  \\\n",
       "0        6310675  Mama Lou's Italian Kitchen  Philippines  Las Piñas City   \n",
       "2        6314542                   Blackbird  Philippines     Makati City   \n",
       "3        6301293                    Banapple  Philippines     Makati City   \n",
       "4        6315689                    Bad Bird  Philippines     Makati City   \n",
       "5        6304833                       Manam  Philippines     Makati City   \n",
       "\n",
       "                                             address  \\\n",
       "0  Block 1, Lot 36, Tropical Avenue Corner Tropic...   \n",
       "2  Nielson Tower, Ayala Triangle Gardens, Salcedo...   \n",
       "3  Ayala Triangle Gardens, Salcedo Village, Makat...   \n",
       "4  Hole In The Wall, Floor 4, Century City Mall, ...   \n",
       "5  Level 1, Greenbelt 2, Ayala Center, Greenbelt,...   \n",
       "\n",
       "                                            locality  \\\n",
       "0                                   BF International   \n",
       "2  Ayala Triangle Gardens, Salcedo Village, Makat...   \n",
       "3  Ayala Triangle Gardens, Salcedo Village, Makat...   \n",
       "4          Century City Mall, Poblacion, Makati City   \n",
       "5              Greenbelt 2, San Lorenzo, Makati City   \n",
       "\n",
       "                                    locality_verbose  longitude  latitude  \\\n",
       "0                   BF International, Las Piñas City     121.01     14.45   \n",
       "2  Ayala Triangle Gardens, Salcedo Village, Makat...     121.02     14.56   \n",
       "3  Ayala Triangle Gardens, Salcedo Village, Makat...     121.02     14.56   \n",
       "4  Century City Mall, Poblacion, Makati City, Mak...     121.03     14.57   \n",
       "5  Greenbelt 2, San Lorenzo, Makati City, Makati ...     121.02     14.55   \n",
       "\n",
       "                              cuisines  average_cost_for_two  \\\n",
       "0                              Italian                  1100   \n",
       "2                      European, Asian                  3100   \n",
       "3  Filipino, American, Italian, Bakery                   800   \n",
       "4                             American                   700   \n",
       "5                             Filipino                   700   \n",
       "\n",
       "           currency  has_table_booking  has_online_delivery  \\\n",
       "0  Botswana Pula(P)                  1                    0   \n",
       "2  Botswana Pula(P)                  0                    0   \n",
       "3  Botswana Pula(P)                  0                    0   \n",
       "4  Botswana Pula(P)                  0                    0   \n",
       "5  Botswana Pula(P)                  0                    0   \n",
       "\n",
       "   is_delivering_now  price_range  aggregate_rating rating_color rating_text  \\\n",
       "0                  0            3              4.60       3F7E00   Excellent   \n",
       "2                  0            4              4.70       3F7E00   Excellent   \n",
       "3                  0            3              4.40       5BA829   Very Good   \n",
       "4                  0            3              4.40       5BA829   Very Good   \n",
       "5                  0            3              4.70       3F7E00   Excellent   \n",
       "\n",
       "   votes  \n",
       "0    619  \n",
       "2    469  \n",
       "3    867  \n",
       "4    858  \n",
       "5    930  "
      ]
     },
     "execution_count": 17,
     "metadata": {},
     "output_type": "execute_result"
    }
   ],
   "source": [
    "df1.head()"
   ]
  },
  {
   "cell_type": "code",
   "execution_count": 18,
   "metadata": {},
   "outputs": [
    {
     "data": {
      "text/html": [
       "<div>\n",
       "<style scoped>\n",
       "    .dataframe tbody tr th:only-of-type {\n",
       "        vertical-align: middle;\n",
       "    }\n",
       "\n",
       "    .dataframe tbody tr th {\n",
       "        vertical-align: top;\n",
       "    }\n",
       "\n",
       "    .dataframe thead th {\n",
       "        text-align: right;\n",
       "    }\n",
       "</style>\n",
       "<table border=\"1\" class=\"dataframe\">\n",
       "  <thead>\n",
       "    <tr style=\"text-align: right;\">\n",
       "      <th></th>\n",
       "      <th>restaurant_id</th>\n",
       "      <th>restaurant_name</th>\n",
       "      <th>country</th>\n",
       "      <th>city</th>\n",
       "      <th>address</th>\n",
       "      <th>locality</th>\n",
       "      <th>locality_verbose</th>\n",
       "      <th>longitude</th>\n",
       "      <th>latitude</th>\n",
       "      <th>cuisines</th>\n",
       "      <th>average_cost_for_two</th>\n",
       "      <th>currency</th>\n",
       "      <th>has_table_booking</th>\n",
       "      <th>has_online_delivery</th>\n",
       "      <th>is_delivering_now</th>\n",
       "      <th>price_range</th>\n",
       "      <th>aggregate_rating</th>\n",
       "      <th>rating_color</th>\n",
       "      <th>rating_text</th>\n",
       "      <th>votes</th>\n",
       "      <th>color_nome</th>\n",
       "    </tr>\n",
       "  </thead>\n",
       "  <tbody>\n",
       "    <tr>\n",
       "      <th>0</th>\n",
       "      <td>6310675</td>\n",
       "      <td>Mama Lou's Italian Kitchen</td>\n",
       "      <td>Philippines</td>\n",
       "      <td>Las Piñas City</td>\n",
       "      <td>Block 1, Lot 36, Tropical Avenue Corner Tropic...</td>\n",
       "      <td>BF International</td>\n",
       "      <td>BF International, Las Piñas City</td>\n",
       "      <td>121.01</td>\n",
       "      <td>14.45</td>\n",
       "      <td>Italian</td>\n",
       "      <td>1100</td>\n",
       "      <td>Botswana Pula(P)</td>\n",
       "      <td>1</td>\n",
       "      <td>0</td>\n",
       "      <td>0</td>\n",
       "      <td>3</td>\n",
       "      <td>4.60</td>\n",
       "      <td>3F7E00</td>\n",
       "      <td>Excellent</td>\n",
       "      <td>619</td>\n",
       "      <td>darkgreen</td>\n",
       "    </tr>\n",
       "    <tr>\n",
       "      <th>2</th>\n",
       "      <td>6314542</td>\n",
       "      <td>Blackbird</td>\n",
       "      <td>Philippines</td>\n",
       "      <td>Makati City</td>\n",
       "      <td>Nielson Tower, Ayala Triangle Gardens, Salcedo...</td>\n",
       "      <td>Ayala Triangle Gardens, Salcedo Village, Makat...</td>\n",
       "      <td>Ayala Triangle Gardens, Salcedo Village, Makat...</td>\n",
       "      <td>121.02</td>\n",
       "      <td>14.56</td>\n",
       "      <td>European, Asian</td>\n",
       "      <td>3100</td>\n",
       "      <td>Botswana Pula(P)</td>\n",
       "      <td>0</td>\n",
       "      <td>0</td>\n",
       "      <td>0</td>\n",
       "      <td>4</td>\n",
       "      <td>4.70</td>\n",
       "      <td>3F7E00</td>\n",
       "      <td>Excellent</td>\n",
       "      <td>469</td>\n",
       "      <td>darkgreen</td>\n",
       "    </tr>\n",
       "    <tr>\n",
       "      <th>3</th>\n",
       "      <td>6301293</td>\n",
       "      <td>Banapple</td>\n",
       "      <td>Philippines</td>\n",
       "      <td>Makati City</td>\n",
       "      <td>Ayala Triangle Gardens, Salcedo Village, Makat...</td>\n",
       "      <td>Ayala Triangle Gardens, Salcedo Village, Makat...</td>\n",
       "      <td>Ayala Triangle Gardens, Salcedo Village, Makat...</td>\n",
       "      <td>121.02</td>\n",
       "      <td>14.56</td>\n",
       "      <td>Filipino, American, Italian, Bakery</td>\n",
       "      <td>800</td>\n",
       "      <td>Botswana Pula(P)</td>\n",
       "      <td>0</td>\n",
       "      <td>0</td>\n",
       "      <td>0</td>\n",
       "      <td>3</td>\n",
       "      <td>4.40</td>\n",
       "      <td>5BA829</td>\n",
       "      <td>Very Good</td>\n",
       "      <td>867</td>\n",
       "      <td>green</td>\n",
       "    </tr>\n",
       "    <tr>\n",
       "      <th>4</th>\n",
       "      <td>6315689</td>\n",
       "      <td>Bad Bird</td>\n",
       "      <td>Philippines</td>\n",
       "      <td>Makati City</td>\n",
       "      <td>Hole In The Wall, Floor 4, Century City Mall, ...</td>\n",
       "      <td>Century City Mall, Poblacion, Makati City</td>\n",
       "      <td>Century City Mall, Poblacion, Makati City, Mak...</td>\n",
       "      <td>121.03</td>\n",
       "      <td>14.57</td>\n",
       "      <td>American</td>\n",
       "      <td>700</td>\n",
       "      <td>Botswana Pula(P)</td>\n",
       "      <td>0</td>\n",
       "      <td>0</td>\n",
       "      <td>0</td>\n",
       "      <td>3</td>\n",
       "      <td>4.40</td>\n",
       "      <td>5BA829</td>\n",
       "      <td>Very Good</td>\n",
       "      <td>858</td>\n",
       "      <td>green</td>\n",
       "    </tr>\n",
       "    <tr>\n",
       "      <th>5</th>\n",
       "      <td>6304833</td>\n",
       "      <td>Manam</td>\n",
       "      <td>Philippines</td>\n",
       "      <td>Makati City</td>\n",
       "      <td>Level 1, Greenbelt 2, Ayala Center, Greenbelt,...</td>\n",
       "      <td>Greenbelt 2, San Lorenzo, Makati City</td>\n",
       "      <td>Greenbelt 2, San Lorenzo, Makati City, Makati ...</td>\n",
       "      <td>121.02</td>\n",
       "      <td>14.55</td>\n",
       "      <td>Filipino</td>\n",
       "      <td>700</td>\n",
       "      <td>Botswana Pula(P)</td>\n",
       "      <td>0</td>\n",
       "      <td>0</td>\n",
       "      <td>0</td>\n",
       "      <td>3</td>\n",
       "      <td>4.70</td>\n",
       "      <td>3F7E00</td>\n",
       "      <td>Excellent</td>\n",
       "      <td>930</td>\n",
       "      <td>darkgreen</td>\n",
       "    </tr>\n",
       "  </tbody>\n",
       "</table>\n",
       "</div>"
      ],
      "text/plain": [
       "   restaurant_id             restaurant_name      country            city  \\\n",
       "0        6310675  Mama Lou's Italian Kitchen  Philippines  Las Piñas City   \n",
       "2        6314542                   Blackbird  Philippines     Makati City   \n",
       "3        6301293                    Banapple  Philippines     Makati City   \n",
       "4        6315689                    Bad Bird  Philippines     Makati City   \n",
       "5        6304833                       Manam  Philippines     Makati City   \n",
       "\n",
       "                                             address  \\\n",
       "0  Block 1, Lot 36, Tropical Avenue Corner Tropic...   \n",
       "2  Nielson Tower, Ayala Triangle Gardens, Salcedo...   \n",
       "3  Ayala Triangle Gardens, Salcedo Village, Makat...   \n",
       "4  Hole In The Wall, Floor 4, Century City Mall, ...   \n",
       "5  Level 1, Greenbelt 2, Ayala Center, Greenbelt,...   \n",
       "\n",
       "                                            locality  \\\n",
       "0                                   BF International   \n",
       "2  Ayala Triangle Gardens, Salcedo Village, Makat...   \n",
       "3  Ayala Triangle Gardens, Salcedo Village, Makat...   \n",
       "4          Century City Mall, Poblacion, Makati City   \n",
       "5              Greenbelt 2, San Lorenzo, Makati City   \n",
       "\n",
       "                                    locality_verbose  longitude  latitude  \\\n",
       "0                   BF International, Las Piñas City     121.01     14.45   \n",
       "2  Ayala Triangle Gardens, Salcedo Village, Makat...     121.02     14.56   \n",
       "3  Ayala Triangle Gardens, Salcedo Village, Makat...     121.02     14.56   \n",
       "4  Century City Mall, Poblacion, Makati City, Mak...     121.03     14.57   \n",
       "5  Greenbelt 2, San Lorenzo, Makati City, Makati ...     121.02     14.55   \n",
       "\n",
       "                              cuisines  average_cost_for_two  \\\n",
       "0                              Italian                  1100   \n",
       "2                      European, Asian                  3100   \n",
       "3  Filipino, American, Italian, Bakery                   800   \n",
       "4                             American                   700   \n",
       "5                             Filipino                   700   \n",
       "\n",
       "           currency  has_table_booking  has_online_delivery  \\\n",
       "0  Botswana Pula(P)                  1                    0   \n",
       "2  Botswana Pula(P)                  0                    0   \n",
       "3  Botswana Pula(P)                  0                    0   \n",
       "4  Botswana Pula(P)                  0                    0   \n",
       "5  Botswana Pula(P)                  0                    0   \n",
       "\n",
       "   is_delivering_now  price_range  aggregate_rating rating_color rating_text  \\\n",
       "0                  0            3              4.60       3F7E00   Excellent   \n",
       "2                  0            4              4.70       3F7E00   Excellent   \n",
       "3                  0            3              4.40       5BA829   Very Good   \n",
       "4                  0            3              4.40       5BA829   Very Good   \n",
       "5                  0            3              4.70       3F7E00   Excellent   \n",
       "\n",
       "   votes color_nome  \n",
       "0    619  darkgreen  \n",
       "2    469  darkgreen  \n",
       "3    867      green  \n",
       "4    858      green  \n",
       "5    930  darkgreen  "
      ]
     },
     "execution_count": 18,
     "metadata": {},
     "output_type": "execute_result"
    }
   ],
   "source": [
    "# Criando a coluna com o nome das cores\n",
    "\n",
    "colors = {\n",
    "\"3F7E00\": \"darkgreen\",\n",
    "\"5BA829\": \"green\",\n",
    "\"9ACD32\": \"lightgreen\",\n",
    "\"CDD614\": \"orange\",\n",
    "\"FFBA00\": \"red\",\n",
    "\"CBCBC8\": \"darkred\",\n",
    "\"FF7800\": \"darkred\",\n",
    "}\n",
    "\n",
    "df1['color_nome'] = df1['rating_color'].apply(lambda x: colors[x])\n",
    "df1.head()\n"
   ]
  },
  {
   "cell_type": "code",
   "execution_count": 19,
   "metadata": {},
   "outputs": [
    {
     "data": {
      "text/html": [
       "<div>\n",
       "<style scoped>\n",
       "    .dataframe tbody tr th:only-of-type {\n",
       "        vertical-align: middle;\n",
       "    }\n",
       "\n",
       "    .dataframe tbody tr th {\n",
       "        vertical-align: top;\n",
       "    }\n",
       "\n",
       "    .dataframe thead th {\n",
       "        text-align: right;\n",
       "    }\n",
       "</style>\n",
       "<table border=\"1\" class=\"dataframe\">\n",
       "  <thead>\n",
       "    <tr style=\"text-align: right;\">\n",
       "      <th></th>\n",
       "      <th>restaurant_id</th>\n",
       "      <th>restaurant_name</th>\n",
       "      <th>country</th>\n",
       "      <th>city</th>\n",
       "      <th>address</th>\n",
       "      <th>locality</th>\n",
       "      <th>locality_verbose</th>\n",
       "      <th>longitude</th>\n",
       "      <th>latitude</th>\n",
       "      <th>cuisines</th>\n",
       "      <th>average_cost_for_two</th>\n",
       "      <th>currency</th>\n",
       "      <th>has_table_booking</th>\n",
       "      <th>has_online_delivery</th>\n",
       "      <th>is_delivering_now</th>\n",
       "      <th>price_range</th>\n",
       "      <th>aggregate_rating</th>\n",
       "      <th>rating_color</th>\n",
       "      <th>rating_text</th>\n",
       "      <th>votes</th>\n",
       "      <th>color_nome</th>\n",
       "    </tr>\n",
       "  </thead>\n",
       "  <tbody>\n",
       "    <tr>\n",
       "      <th>0</th>\n",
       "      <td>6310675</td>\n",
       "      <td>Mama Lou's Italian Kitchen</td>\n",
       "      <td>Philippines</td>\n",
       "      <td>Las Piñas City</td>\n",
       "      <td>Block 1, Lot 36, Tropical Avenue Corner Tropic...</td>\n",
       "      <td>BF International</td>\n",
       "      <td>BF International, Las Piñas City</td>\n",
       "      <td>121.01</td>\n",
       "      <td>14.45</td>\n",
       "      <td>Italian</td>\n",
       "      <td>1100</td>\n",
       "      <td>Botswana Pula(P)</td>\n",
       "      <td>1</td>\n",
       "      <td>0</td>\n",
       "      <td>0</td>\n",
       "      <td>expensive</td>\n",
       "      <td>4.60</td>\n",
       "      <td>3F7E00</td>\n",
       "      <td>Excellent</td>\n",
       "      <td>619</td>\n",
       "      <td>darkgreen</td>\n",
       "    </tr>\n",
       "    <tr>\n",
       "      <th>2</th>\n",
       "      <td>6314542</td>\n",
       "      <td>Blackbird</td>\n",
       "      <td>Philippines</td>\n",
       "      <td>Makati City</td>\n",
       "      <td>Nielson Tower, Ayala Triangle Gardens, Salcedo...</td>\n",
       "      <td>Ayala Triangle Gardens, Salcedo Village, Makat...</td>\n",
       "      <td>Ayala Triangle Gardens, Salcedo Village, Makat...</td>\n",
       "      <td>121.02</td>\n",
       "      <td>14.56</td>\n",
       "      <td>European, Asian</td>\n",
       "      <td>3100</td>\n",
       "      <td>Botswana Pula(P)</td>\n",
       "      <td>0</td>\n",
       "      <td>0</td>\n",
       "      <td>0</td>\n",
       "      <td>gourmet</td>\n",
       "      <td>4.70</td>\n",
       "      <td>3F7E00</td>\n",
       "      <td>Excellent</td>\n",
       "      <td>469</td>\n",
       "      <td>darkgreen</td>\n",
       "    </tr>\n",
       "    <tr>\n",
       "      <th>3</th>\n",
       "      <td>6301293</td>\n",
       "      <td>Banapple</td>\n",
       "      <td>Philippines</td>\n",
       "      <td>Makati City</td>\n",
       "      <td>Ayala Triangle Gardens, Salcedo Village, Makat...</td>\n",
       "      <td>Ayala Triangle Gardens, Salcedo Village, Makat...</td>\n",
       "      <td>Ayala Triangle Gardens, Salcedo Village, Makat...</td>\n",
       "      <td>121.02</td>\n",
       "      <td>14.56</td>\n",
       "      <td>Filipino, American, Italian, Bakery</td>\n",
       "      <td>800</td>\n",
       "      <td>Botswana Pula(P)</td>\n",
       "      <td>0</td>\n",
       "      <td>0</td>\n",
       "      <td>0</td>\n",
       "      <td>expensive</td>\n",
       "      <td>4.40</td>\n",
       "      <td>5BA829</td>\n",
       "      <td>Very Good</td>\n",
       "      <td>867</td>\n",
       "      <td>green</td>\n",
       "    </tr>\n",
       "    <tr>\n",
       "      <th>4</th>\n",
       "      <td>6315689</td>\n",
       "      <td>Bad Bird</td>\n",
       "      <td>Philippines</td>\n",
       "      <td>Makati City</td>\n",
       "      <td>Hole In The Wall, Floor 4, Century City Mall, ...</td>\n",
       "      <td>Century City Mall, Poblacion, Makati City</td>\n",
       "      <td>Century City Mall, Poblacion, Makati City, Mak...</td>\n",
       "      <td>121.03</td>\n",
       "      <td>14.57</td>\n",
       "      <td>American</td>\n",
       "      <td>700</td>\n",
       "      <td>Botswana Pula(P)</td>\n",
       "      <td>0</td>\n",
       "      <td>0</td>\n",
       "      <td>0</td>\n",
       "      <td>expensive</td>\n",
       "      <td>4.40</td>\n",
       "      <td>5BA829</td>\n",
       "      <td>Very Good</td>\n",
       "      <td>858</td>\n",
       "      <td>green</td>\n",
       "    </tr>\n",
       "    <tr>\n",
       "      <th>5</th>\n",
       "      <td>6304833</td>\n",
       "      <td>Manam</td>\n",
       "      <td>Philippines</td>\n",
       "      <td>Makati City</td>\n",
       "      <td>Level 1, Greenbelt 2, Ayala Center, Greenbelt,...</td>\n",
       "      <td>Greenbelt 2, San Lorenzo, Makati City</td>\n",
       "      <td>Greenbelt 2, San Lorenzo, Makati City, Makati ...</td>\n",
       "      <td>121.02</td>\n",
       "      <td>14.55</td>\n",
       "      <td>Filipino</td>\n",
       "      <td>700</td>\n",
       "      <td>Botswana Pula(P)</td>\n",
       "      <td>0</td>\n",
       "      <td>0</td>\n",
       "      <td>0</td>\n",
       "      <td>expensive</td>\n",
       "      <td>4.70</td>\n",
       "      <td>3F7E00</td>\n",
       "      <td>Excellent</td>\n",
       "      <td>930</td>\n",
       "      <td>darkgreen</td>\n",
       "    </tr>\n",
       "  </tbody>\n",
       "</table>\n",
       "</div>"
      ],
      "text/plain": [
       "   restaurant_id             restaurant_name      country            city  \\\n",
       "0        6310675  Mama Lou's Italian Kitchen  Philippines  Las Piñas City   \n",
       "2        6314542                   Blackbird  Philippines     Makati City   \n",
       "3        6301293                    Banapple  Philippines     Makati City   \n",
       "4        6315689                    Bad Bird  Philippines     Makati City   \n",
       "5        6304833                       Manam  Philippines     Makati City   \n",
       "\n",
       "                                             address  \\\n",
       "0  Block 1, Lot 36, Tropical Avenue Corner Tropic...   \n",
       "2  Nielson Tower, Ayala Triangle Gardens, Salcedo...   \n",
       "3  Ayala Triangle Gardens, Salcedo Village, Makat...   \n",
       "4  Hole In The Wall, Floor 4, Century City Mall, ...   \n",
       "5  Level 1, Greenbelt 2, Ayala Center, Greenbelt,...   \n",
       "\n",
       "                                            locality  \\\n",
       "0                                   BF International   \n",
       "2  Ayala Triangle Gardens, Salcedo Village, Makat...   \n",
       "3  Ayala Triangle Gardens, Salcedo Village, Makat...   \n",
       "4          Century City Mall, Poblacion, Makati City   \n",
       "5              Greenbelt 2, San Lorenzo, Makati City   \n",
       "\n",
       "                                    locality_verbose  longitude  latitude  \\\n",
       "0                   BF International, Las Piñas City     121.01     14.45   \n",
       "2  Ayala Triangle Gardens, Salcedo Village, Makat...     121.02     14.56   \n",
       "3  Ayala Triangle Gardens, Salcedo Village, Makat...     121.02     14.56   \n",
       "4  Century City Mall, Poblacion, Makati City, Mak...     121.03     14.57   \n",
       "5  Greenbelt 2, San Lorenzo, Makati City, Makati ...     121.02     14.55   \n",
       "\n",
       "                              cuisines  average_cost_for_two  \\\n",
       "0                              Italian                  1100   \n",
       "2                      European, Asian                  3100   \n",
       "3  Filipino, American, Italian, Bakery                   800   \n",
       "4                             American                   700   \n",
       "5                             Filipino                   700   \n",
       "\n",
       "           currency  has_table_booking  has_online_delivery  \\\n",
       "0  Botswana Pula(P)                  1                    0   \n",
       "2  Botswana Pula(P)                  0                    0   \n",
       "3  Botswana Pula(P)                  0                    0   \n",
       "4  Botswana Pula(P)                  0                    0   \n",
       "5  Botswana Pula(P)                  0                    0   \n",
       "\n",
       "   is_delivering_now price_range  aggregate_rating rating_color rating_text  \\\n",
       "0                  0   expensive              4.60       3F7E00   Excellent   \n",
       "2                  0     gourmet              4.70       3F7E00   Excellent   \n",
       "3                  0   expensive              4.40       5BA829   Very Good   \n",
       "4                  0   expensive              4.40       5BA829   Very Good   \n",
       "5                  0   expensive              4.70       3F7E00   Excellent   \n",
       "\n",
       "   votes color_nome  \n",
       "0    619  darkgreen  \n",
       "2    469  darkgreen  \n",
       "3    867      green  \n",
       "4    858      green  \n",
       "5    930  darkgreen  "
      ]
     },
     "execution_count": 19,
     "metadata": {},
     "output_type": "execute_result"
    }
   ],
   "source": [
    "# Categorizando o price range\n",
    "\n",
    "price = {1:'cheap',\n",
    "         2:'normal',\n",
    "         3:'expensive',\n",
    "         4:'gourmet'}\n",
    "\n",
    "df1['price_range'] = df1['price_range'].apply(lambda x: price[x])\n",
    "df1.head()"
   ]
  },
  {
   "cell_type": "code",
   "execution_count": 20,
   "metadata": {},
   "outputs": [
    {
     "data": {
      "text/html": [
       "<div>\n",
       "<style scoped>\n",
       "    .dataframe tbody tr th:only-of-type {\n",
       "        vertical-align: middle;\n",
       "    }\n",
       "\n",
       "    .dataframe tbody tr th {\n",
       "        vertical-align: top;\n",
       "    }\n",
       "\n",
       "    .dataframe thead th {\n",
       "        text-align: right;\n",
       "    }\n",
       "</style>\n",
       "<table border=\"1\" class=\"dataframe\">\n",
       "  <thead>\n",
       "    <tr style=\"text-align: right;\">\n",
       "      <th></th>\n",
       "      <th>restaurant_id</th>\n",
       "      <th>restaurant_name</th>\n",
       "      <th>country</th>\n",
       "      <th>city</th>\n",
       "      <th>address</th>\n",
       "      <th>locality</th>\n",
       "      <th>locality_verbose</th>\n",
       "      <th>longitude</th>\n",
       "      <th>latitude</th>\n",
       "      <th>cuisines</th>\n",
       "      <th>average_cost_for_two</th>\n",
       "      <th>currency</th>\n",
       "      <th>has_table_booking</th>\n",
       "      <th>has_online_delivery</th>\n",
       "      <th>is_delivering_now</th>\n",
       "      <th>price_range</th>\n",
       "      <th>aggregate_rating</th>\n",
       "      <th>rating_color</th>\n",
       "      <th>rating_text</th>\n",
       "      <th>votes</th>\n",
       "      <th>color_nome</th>\n",
       "    </tr>\n",
       "  </thead>\n",
       "  <tbody>\n",
       "    <tr>\n",
       "      <th>0</th>\n",
       "      <td>6310675</td>\n",
       "      <td>Mama Lou's Italian Kitchen</td>\n",
       "      <td>Philippines</td>\n",
       "      <td>Las Piñas City</td>\n",
       "      <td>Block 1, Lot 36, Tropical Avenue Corner Tropic...</td>\n",
       "      <td>BF International</td>\n",
       "      <td>BF International, Las Piñas City</td>\n",
       "      <td>121.01</td>\n",
       "      <td>14.45</td>\n",
       "      <td>Italian</td>\n",
       "      <td>1100</td>\n",
       "      <td>Botswana Pula(P)</td>\n",
       "      <td>1</td>\n",
       "      <td>0</td>\n",
       "      <td>0</td>\n",
       "      <td>expensive</td>\n",
       "      <td>4.60</td>\n",
       "      <td>3F7E00</td>\n",
       "      <td>Excellent</td>\n",
       "      <td>619</td>\n",
       "      <td>darkgreen</td>\n",
       "    </tr>\n",
       "    <tr>\n",
       "      <th>2</th>\n",
       "      <td>6314542</td>\n",
       "      <td>Blackbird</td>\n",
       "      <td>Philippines</td>\n",
       "      <td>Makati City</td>\n",
       "      <td>Nielson Tower, Ayala Triangle Gardens, Salcedo...</td>\n",
       "      <td>Ayala Triangle Gardens, Salcedo Village, Makat...</td>\n",
       "      <td>Ayala Triangle Gardens, Salcedo Village, Makat...</td>\n",
       "      <td>121.02</td>\n",
       "      <td>14.56</td>\n",
       "      <td>European</td>\n",
       "      <td>3100</td>\n",
       "      <td>Botswana Pula(P)</td>\n",
       "      <td>0</td>\n",
       "      <td>0</td>\n",
       "      <td>0</td>\n",
       "      <td>gourmet</td>\n",
       "      <td>4.70</td>\n",
       "      <td>3F7E00</td>\n",
       "      <td>Excellent</td>\n",
       "      <td>469</td>\n",
       "      <td>darkgreen</td>\n",
       "    </tr>\n",
       "    <tr>\n",
       "      <th>3</th>\n",
       "      <td>6301293</td>\n",
       "      <td>Banapple</td>\n",
       "      <td>Philippines</td>\n",
       "      <td>Makati City</td>\n",
       "      <td>Ayala Triangle Gardens, Salcedo Village, Makat...</td>\n",
       "      <td>Ayala Triangle Gardens, Salcedo Village, Makat...</td>\n",
       "      <td>Ayala Triangle Gardens, Salcedo Village, Makat...</td>\n",
       "      <td>121.02</td>\n",
       "      <td>14.56</td>\n",
       "      <td>Filipino</td>\n",
       "      <td>800</td>\n",
       "      <td>Botswana Pula(P)</td>\n",
       "      <td>0</td>\n",
       "      <td>0</td>\n",
       "      <td>0</td>\n",
       "      <td>expensive</td>\n",
       "      <td>4.40</td>\n",
       "      <td>5BA829</td>\n",
       "      <td>Very Good</td>\n",
       "      <td>867</td>\n",
       "      <td>green</td>\n",
       "    </tr>\n",
       "    <tr>\n",
       "      <th>4</th>\n",
       "      <td>6315689</td>\n",
       "      <td>Bad Bird</td>\n",
       "      <td>Philippines</td>\n",
       "      <td>Makati City</td>\n",
       "      <td>Hole In The Wall, Floor 4, Century City Mall, ...</td>\n",
       "      <td>Century City Mall, Poblacion, Makati City</td>\n",
       "      <td>Century City Mall, Poblacion, Makati City, Mak...</td>\n",
       "      <td>121.03</td>\n",
       "      <td>14.57</td>\n",
       "      <td>American</td>\n",
       "      <td>700</td>\n",
       "      <td>Botswana Pula(P)</td>\n",
       "      <td>0</td>\n",
       "      <td>0</td>\n",
       "      <td>0</td>\n",
       "      <td>expensive</td>\n",
       "      <td>4.40</td>\n",
       "      <td>5BA829</td>\n",
       "      <td>Very Good</td>\n",
       "      <td>858</td>\n",
       "      <td>green</td>\n",
       "    </tr>\n",
       "    <tr>\n",
       "      <th>5</th>\n",
       "      <td>6304833</td>\n",
       "      <td>Manam</td>\n",
       "      <td>Philippines</td>\n",
       "      <td>Makati City</td>\n",
       "      <td>Level 1, Greenbelt 2, Ayala Center, Greenbelt,...</td>\n",
       "      <td>Greenbelt 2, San Lorenzo, Makati City</td>\n",
       "      <td>Greenbelt 2, San Lorenzo, Makati City, Makati ...</td>\n",
       "      <td>121.02</td>\n",
       "      <td>14.55</td>\n",
       "      <td>Filipino</td>\n",
       "      <td>700</td>\n",
       "      <td>Botswana Pula(P)</td>\n",
       "      <td>0</td>\n",
       "      <td>0</td>\n",
       "      <td>0</td>\n",
       "      <td>expensive</td>\n",
       "      <td>4.70</td>\n",
       "      <td>3F7E00</td>\n",
       "      <td>Excellent</td>\n",
       "      <td>930</td>\n",
       "      <td>darkgreen</td>\n",
       "    </tr>\n",
       "  </tbody>\n",
       "</table>\n",
       "</div>"
      ],
      "text/plain": [
       "   restaurant_id             restaurant_name      country            city  \\\n",
       "0        6310675  Mama Lou's Italian Kitchen  Philippines  Las Piñas City   \n",
       "2        6314542                   Blackbird  Philippines     Makati City   \n",
       "3        6301293                    Banapple  Philippines     Makati City   \n",
       "4        6315689                    Bad Bird  Philippines     Makati City   \n",
       "5        6304833                       Manam  Philippines     Makati City   \n",
       "\n",
       "                                             address  \\\n",
       "0  Block 1, Lot 36, Tropical Avenue Corner Tropic...   \n",
       "2  Nielson Tower, Ayala Triangle Gardens, Salcedo...   \n",
       "3  Ayala Triangle Gardens, Salcedo Village, Makat...   \n",
       "4  Hole In The Wall, Floor 4, Century City Mall, ...   \n",
       "5  Level 1, Greenbelt 2, Ayala Center, Greenbelt,...   \n",
       "\n",
       "                                            locality  \\\n",
       "0                                   BF International   \n",
       "2  Ayala Triangle Gardens, Salcedo Village, Makat...   \n",
       "3  Ayala Triangle Gardens, Salcedo Village, Makat...   \n",
       "4          Century City Mall, Poblacion, Makati City   \n",
       "5              Greenbelt 2, San Lorenzo, Makati City   \n",
       "\n",
       "                                    locality_verbose  longitude  latitude  \\\n",
       "0                   BF International, Las Piñas City     121.01     14.45   \n",
       "2  Ayala Triangle Gardens, Salcedo Village, Makat...     121.02     14.56   \n",
       "3  Ayala Triangle Gardens, Salcedo Village, Makat...     121.02     14.56   \n",
       "4  Century City Mall, Poblacion, Makati City, Mak...     121.03     14.57   \n",
       "5  Greenbelt 2, San Lorenzo, Makati City, Makati ...     121.02     14.55   \n",
       "\n",
       "   cuisines  average_cost_for_two          currency  has_table_booking  \\\n",
       "0   Italian                  1100  Botswana Pula(P)                  1   \n",
       "2  European                  3100  Botswana Pula(P)                  0   \n",
       "3  Filipino                   800  Botswana Pula(P)                  0   \n",
       "4  American                   700  Botswana Pula(P)                  0   \n",
       "5  Filipino                   700  Botswana Pula(P)                  0   \n",
       "\n",
       "   has_online_delivery  is_delivering_now price_range  aggregate_rating  \\\n",
       "0                    0                  0   expensive              4.60   \n",
       "2                    0                  0     gourmet              4.70   \n",
       "3                    0                  0   expensive              4.40   \n",
       "4                    0                  0   expensive              4.40   \n",
       "5                    0                  0   expensive              4.70   \n",
       "\n",
       "  rating_color rating_text  votes color_nome  \n",
       "0       3F7E00   Excellent    619  darkgreen  \n",
       "2       3F7E00   Excellent    469  darkgreen  \n",
       "3       5BA829   Very Good    867      green  \n",
       "4       5BA829   Very Good    858      green  \n",
       "5       3F7E00   Excellent    930  darkgreen  "
      ]
     },
     "execution_count": 20,
     "metadata": {},
     "output_type": "execute_result"
    }
   ],
   "source": [
    "# Mantendo apenas um tipo de \"cuisine\"\n",
    "\n",
    "df1['cuisines'] = df1['cuisines'].apply(lambda x: x.split(',')[0])\n",
    "df1.head()"
   ]
  },
  {
   "cell_type": "code",
   "execution_count": 21,
   "metadata": {},
   "outputs": [
    {
     "data": {
      "text/plain": [
       "array(['Botswana Pula(P)', 'Brazilian Real(R$)', 'Dollar($)',\n",
       "       'Emirati Diram(AED)', 'Indian Rupees(Rs.)',\n",
       "       'Indonesian Rupiah(IDR)', 'NewZealand($)', 'Pounds(£)',\n",
       "       'Qatari Rial(QR)', 'Rand(R)', 'Sri Lankan Rupee(LKR)',\n",
       "       'Turkish Lira(TL)'], dtype=object)"
      ]
     },
     "execution_count": 21,
     "metadata": {},
     "output_type": "execute_result"
    }
   ],
   "source": [
    "# Criando uma nova coluna para receber o custo médio para duas pessoas convertido para USD\n",
    "\n",
    "df1.currency.unique()"
   ]
  },
  {
   "cell_type": "code",
   "execution_count": 22,
   "metadata": {},
   "outputs": [],
   "source": [
    "def get_rates(to_currency='USD'):\n",
    "    # Acessando a API para obter a taxa de conversão do dolar para todas as moedas\n",
    "    url = 'https://api.exchangerate-api.com/v4/latest/'+str(to_currency)\n",
    "    response = requests.get(url)\n",
    "    data = response.json()\n",
    "\n",
    "    return data"
   ]
  },
  {
   "cell_type": "code",
   "execution_count": 23,
   "metadata": {},
   "outputs": [
    {
     "data": {
      "text/html": [
       "<div>\n",
       "<style scoped>\n",
       "    .dataframe tbody tr th:only-of-type {\n",
       "        vertical-align: middle;\n",
       "    }\n",
       "\n",
       "    .dataframe tbody tr th {\n",
       "        vertical-align: top;\n",
       "    }\n",
       "\n",
       "    .dataframe thead th {\n",
       "        text-align: right;\n",
       "    }\n",
       "</style>\n",
       "<table border=\"1\" class=\"dataframe\">\n",
       "  <thead>\n",
       "    <tr style=\"text-align: right;\">\n",
       "      <th></th>\n",
       "      <th>restaurant_id</th>\n",
       "      <th>restaurant_name</th>\n",
       "      <th>country</th>\n",
       "      <th>city</th>\n",
       "      <th>address</th>\n",
       "      <th>locality</th>\n",
       "      <th>locality_verbose</th>\n",
       "      <th>longitude</th>\n",
       "      <th>latitude</th>\n",
       "      <th>cuisines</th>\n",
       "      <th>average_cost_for_two</th>\n",
       "      <th>currency</th>\n",
       "      <th>has_table_booking</th>\n",
       "      <th>has_online_delivery</th>\n",
       "      <th>is_delivering_now</th>\n",
       "      <th>price_range</th>\n",
       "      <th>aggregate_rating</th>\n",
       "      <th>rating_color</th>\n",
       "      <th>rating_text</th>\n",
       "      <th>votes</th>\n",
       "      <th>color_nome</th>\n",
       "      <th>converted_avg_cost_for_two</th>\n",
       "    </tr>\n",
       "  </thead>\n",
       "  <tbody>\n",
       "    <tr>\n",
       "      <th>7522</th>\n",
       "      <td>5912546</td>\n",
       "      <td>Eataly</td>\n",
       "      <td>Turkey</td>\n",
       "      <td>İstanbul</td>\n",
       "      <td>Zorlu Center AVM, Köprü Katı, Levazım Mahalles...</td>\n",
       "      <td>Zorlu Center AVM, Levazım, Beşiktaş</td>\n",
       "      <td>Zorlu Center AVM, Levazım, Beşiktaş, İstanbul</td>\n",
       "      <td>29.02</td>\n",
       "      <td>41.07</td>\n",
       "      <td>Italian</td>\n",
       "      <td>300</td>\n",
       "      <td>Turkish Lira(TL)</td>\n",
       "      <td>0</td>\n",
       "      <td>0</td>\n",
       "      <td>0</td>\n",
       "      <td>gourmet</td>\n",
       "      <td>4.30</td>\n",
       "      <td>5BA829</td>\n",
       "      <td>Very Good</td>\n",
       "      <td>1367</td>\n",
       "      <td>green</td>\n",
       "      <td>9</td>\n",
       "    </tr>\n",
       "    <tr>\n",
       "      <th>7523</th>\n",
       "      <td>5913006</td>\n",
       "      <td>Tarihi Çınaraltı Aile Çay Bahçesi</td>\n",
       "      <td>Turkey</td>\n",
       "      <td>İstanbul</td>\n",
       "      <td>Çengelköy Mahallesi, Çınaraltı Camii Sokak, No...</td>\n",
       "      <td>Çengelköy Merkez</td>\n",
       "      <td>Çengelköy Merkez, İstanbul</td>\n",
       "      <td>29.05</td>\n",
       "      <td>41.05</td>\n",
       "      <td>Fast Food</td>\n",
       "      <td>45</td>\n",
       "      <td>Turkish Lira(TL)</td>\n",
       "      <td>0</td>\n",
       "      <td>0</td>\n",
       "      <td>0</td>\n",
       "      <td>normal</td>\n",
       "      <td>4.50</td>\n",
       "      <td>3F7E00</td>\n",
       "      <td>Excellent</td>\n",
       "      <td>1172</td>\n",
       "      <td>darkgreen</td>\n",
       "      <td>1</td>\n",
       "    </tr>\n",
       "    <tr>\n",
       "      <th>7524</th>\n",
       "      <td>5923535</td>\n",
       "      <td>Boon Cafe &amp; Restaurant</td>\n",
       "      <td>Turkey</td>\n",
       "      <td>İstanbul</td>\n",
       "      <td>Çengelköy Mahallesi, Çengelköy Caddesi, Kara S...</td>\n",
       "      <td>Çengelköy Merkez</td>\n",
       "      <td>Çengelköy Merkez, İstanbul</td>\n",
       "      <td>29.05</td>\n",
       "      <td>41.05</td>\n",
       "      <td>Restaurant Cafe</td>\n",
       "      <td>140</td>\n",
       "      <td>Turkish Lira(TL)</td>\n",
       "      <td>0</td>\n",
       "      <td>0</td>\n",
       "      <td>0</td>\n",
       "      <td>gourmet</td>\n",
       "      <td>4.20</td>\n",
       "      <td>5BA829</td>\n",
       "      <td>Very Good</td>\n",
       "      <td>1160</td>\n",
       "      <td>green</td>\n",
       "      <td>4</td>\n",
       "    </tr>\n",
       "    <tr>\n",
       "      <th>7525</th>\n",
       "      <td>5914190</td>\n",
       "      <td>Kanaat Lokantası</td>\n",
       "      <td>Turkey</td>\n",
       "      <td>İstanbul</td>\n",
       "      <td>Sultantepe Mahallesi, Selmani Pak Caddesi, No ...</td>\n",
       "      <td>Üsküdar Merkez</td>\n",
       "      <td>Üsküdar Merkez, İstanbul</td>\n",
       "      <td>29.02</td>\n",
       "      <td>41.03</td>\n",
       "      <td>Home-made</td>\n",
       "      <td>95</td>\n",
       "      <td>Turkish Lira(TL)</td>\n",
       "      <td>0</td>\n",
       "      <td>0</td>\n",
       "      <td>0</td>\n",
       "      <td>expensive</td>\n",
       "      <td>4.00</td>\n",
       "      <td>5BA829</td>\n",
       "      <td>Very Good</td>\n",
       "      <td>770</td>\n",
       "      <td>green</td>\n",
       "      <td>3</td>\n",
       "    </tr>\n",
       "    <tr>\n",
       "      <th>7526</th>\n",
       "      <td>5913508</td>\n",
       "      <td>Katibim</td>\n",
       "      <td>Turkey</td>\n",
       "      <td>İstanbul</td>\n",
       "      <td>Mimar Sinan Mahallesi, Harem Sahilyolu, No 53,...</td>\n",
       "      <td>Üsküdar Merkez</td>\n",
       "      <td>Üsküdar Merkez, İstanbul</td>\n",
       "      <td>29.01</td>\n",
       "      <td>41.03</td>\n",
       "      <td>Restaurant Cafe</td>\n",
       "      <td>150</td>\n",
       "      <td>Turkish Lira(TL)</td>\n",
       "      <td>0</td>\n",
       "      <td>0</td>\n",
       "      <td>0</td>\n",
       "      <td>gourmet</td>\n",
       "      <td>4.20</td>\n",
       "      <td>5BA829</td>\n",
       "      <td>Very Good</td>\n",
       "      <td>1141</td>\n",
       "      <td>green</td>\n",
       "      <td>5</td>\n",
       "    </tr>\n",
       "  </tbody>\n",
       "</table>\n",
       "</div>"
      ],
      "text/plain": [
       "      restaurant_id                    restaurant_name country      city  \\\n",
       "7522        5912546                             Eataly  Turkey  İstanbul   \n",
       "7523        5913006  Tarihi Çınaraltı Aile Çay Bahçesi  Turkey  İstanbul   \n",
       "7524        5923535             Boon Cafe & Restaurant  Turkey  İstanbul   \n",
       "7525        5914190                   Kanaat Lokantası  Turkey  İstanbul   \n",
       "7526        5913508                            Katibim  Turkey  İstanbul   \n",
       "\n",
       "                                                address  \\\n",
       "7522  Zorlu Center AVM, Köprü Katı, Levazım Mahalles...   \n",
       "7523  Çengelköy Mahallesi, Çınaraltı Camii Sokak, No...   \n",
       "7524  Çengelköy Mahallesi, Çengelköy Caddesi, Kara S...   \n",
       "7525  Sultantepe Mahallesi, Selmani Pak Caddesi, No ...   \n",
       "7526  Mimar Sinan Mahallesi, Harem Sahilyolu, No 53,...   \n",
       "\n",
       "                                 locality  \\\n",
       "7522  Zorlu Center AVM, Levazım, Beşiktaş   \n",
       "7523                     Çengelköy Merkez   \n",
       "7524                     Çengelköy Merkez   \n",
       "7525                       Üsküdar Merkez   \n",
       "7526                       Üsküdar Merkez   \n",
       "\n",
       "                                   locality_verbose  longitude  latitude  \\\n",
       "7522  Zorlu Center AVM, Levazım, Beşiktaş, İstanbul      29.02     41.07   \n",
       "7523                     Çengelköy Merkez, İstanbul      29.05     41.05   \n",
       "7524                     Çengelköy Merkez, İstanbul      29.05     41.05   \n",
       "7525                       Üsküdar Merkez, İstanbul      29.02     41.03   \n",
       "7526                       Üsküdar Merkez, İstanbul      29.01     41.03   \n",
       "\n",
       "             cuisines  average_cost_for_two          currency  \\\n",
       "7522          Italian                   300  Turkish Lira(TL)   \n",
       "7523        Fast Food                    45  Turkish Lira(TL)   \n",
       "7524  Restaurant Cafe                   140  Turkish Lira(TL)   \n",
       "7525        Home-made                    95  Turkish Lira(TL)   \n",
       "7526  Restaurant Cafe                   150  Turkish Lira(TL)   \n",
       "\n",
       "      has_table_booking  has_online_delivery  is_delivering_now price_range  \\\n",
       "7522                  0                    0                  0     gourmet   \n",
       "7523                  0                    0                  0      normal   \n",
       "7524                  0                    0                  0     gourmet   \n",
       "7525                  0                    0                  0   expensive   \n",
       "7526                  0                    0                  0     gourmet   \n",
       "\n",
       "      aggregate_rating rating_color rating_text  votes color_nome  \\\n",
       "7522              4.30       5BA829   Very Good   1367      green   \n",
       "7523              4.50       3F7E00   Excellent   1172  darkgreen   \n",
       "7524              4.20       5BA829   Very Good   1160      green   \n",
       "7525              4.00       5BA829   Very Good    770      green   \n",
       "7526              4.20       5BA829   Very Good   1141      green   \n",
       "\n",
       "      converted_avg_cost_for_two  \n",
       "7522                           9  \n",
       "7523                           1  \n",
       "7524                           4  \n",
       "7525                           3  \n",
       "7526                           5  "
      ]
     },
     "execution_count": 23,
     "metadata": {},
     "output_type": "execute_result"
    }
   ],
   "source": [
    "data = get_rates()\n",
    "def convert_currency(amount, from_currency):\n",
    "    # Salvando a taxa de conversão a partir do json recebido pela API\n",
    "    exchange_rate = data['rates'][from_currency]\n",
    "    # Convertendo o valor - Como a taxa que obtemos pela API é A PATIR do dolar, aqui vamos fazer a operação inversa (divisão) para obter a taxa de conversão PARA o dolar\n",
    "    # Como a coluna original possuia apenas números inteiros, vamos arredondar para manter também números inteiros\n",
    "    converted_amount = round(amount/exchange_rate)\n",
    "\n",
    "    return converted_amount\n",
    "\n",
    "currency = {'Botswana Pula(P)':'BWP',\n",
    "            'Brazilian Real(R$)':'BRL',\n",
    "            'Dollar($)':'USD',\n",
    "            'Emirati Diram(AED)':'AED',\n",
    "            'Indian Rupees(Rs.)':'INR',\n",
    "            'Indonesian Rupiah(IDR)':'IDR',\n",
    "            'NewZealand($)':'NZD',\n",
    "            'Pounds(£)':'GBP',\n",
    "            'Qatari Rial(QR)':'QAR',\n",
    "            'Rand(R)':'ZAR',\n",
    "            'Sri Lankan Rupee(LKR)':'LKR',\n",
    "            'Turkish Lira(TL)':'TRY'}\n",
    "\n",
    "df1['converted_avg_cost_for_two'] = df1[['currency', 'average_cost_for_two']].apply(lambda x: convert_currency(x['average_cost_for_two'], currency[x['currency']]), axis=1)\n",
    "df1.tail()"
   ]
  },
  {
   "cell_type": "code",
   "execution_count": 24,
   "metadata": {},
   "outputs": [
    {
     "data": {
      "text/plain": [
       "count       6929.00\n",
       "mean        7520.08\n",
       "std       302534.78\n",
       "min            0.00\n",
       "25%           60.00\n",
       "50%          250.00\n",
       "75%          600.00\n",
       "max     25000017.00\n",
       "Name: average_cost_for_two, dtype: float64"
      ]
     },
     "execution_count": 24,
     "metadata": {},
     "output_type": "execute_result"
    }
   ],
   "source": [
    "df1['average_cost_for_two'].describe()"
   ]
  },
  {
   "cell_type": "code",
   "execution_count": 25,
   "metadata": {},
   "outputs": [
    {
     "data": {
      "text/plain": [
       "count       6929.00\n",
       "mean        3637.53\n",
       "std       300334.01\n",
       "min            0.00\n",
       "25%            7.00\n",
       "50%           16.00\n",
       "75%           40.00\n",
       "max     25000017.00\n",
       "Name: converted_avg_cost_for_two, dtype: float64"
      ]
     },
     "execution_count": 25,
     "metadata": {},
     "output_type": "execute_result"
    }
   ],
   "source": [
    "df1['converted_avg_cost_for_two'].describe()"
   ]
  },
  {
   "cell_type": "code",
   "execution_count": 26,
   "metadata": {},
   "outputs": [],
   "source": [
    "# Excluindo outlier na coluna average_cost_for_two\n",
    "\n",
    "df1.drop(df1[df1['average_cost_for_two']==25000017].index, inplace=True)"
   ]
  },
  {
   "cell_type": "markdown",
   "metadata": {},
   "source": [
    "# Data Analysis"
   ]
  },
  {
   "cell_type": "code",
   "execution_count": 27,
   "metadata": {},
   "outputs": [
    {
     "data": {
      "text/html": [
       "<div>\n",
       "<style scoped>\n",
       "    .dataframe tbody tr th:only-of-type {\n",
       "        vertical-align: middle;\n",
       "    }\n",
       "\n",
       "    .dataframe tbody tr th {\n",
       "        vertical-align: top;\n",
       "    }\n",
       "\n",
       "    .dataframe thead th {\n",
       "        text-align: right;\n",
       "    }\n",
       "</style>\n",
       "<table border=\"1\" class=\"dataframe\">\n",
       "  <thead>\n",
       "    <tr style=\"text-align: right;\">\n",
       "      <th></th>\n",
       "      <th>restaurant_id</th>\n",
       "      <th>restaurant_name</th>\n",
       "      <th>country</th>\n",
       "      <th>city</th>\n",
       "      <th>address</th>\n",
       "      <th>locality</th>\n",
       "      <th>locality_verbose</th>\n",
       "      <th>longitude</th>\n",
       "      <th>latitude</th>\n",
       "      <th>cuisines</th>\n",
       "      <th>average_cost_for_two</th>\n",
       "      <th>currency</th>\n",
       "      <th>has_table_booking</th>\n",
       "      <th>has_online_delivery</th>\n",
       "      <th>is_delivering_now</th>\n",
       "      <th>price_range</th>\n",
       "      <th>aggregate_rating</th>\n",
       "      <th>rating_color</th>\n",
       "      <th>rating_text</th>\n",
       "      <th>votes</th>\n",
       "      <th>color_nome</th>\n",
       "      <th>converted_avg_cost_for_two</th>\n",
       "    </tr>\n",
       "  </thead>\n",
       "  <tbody>\n",
       "    <tr>\n",
       "      <th>0</th>\n",
       "      <td>6310675</td>\n",
       "      <td>Mama Lou's Italian Kitchen</td>\n",
       "      <td>Philippines</td>\n",
       "      <td>Las Piñas City</td>\n",
       "      <td>Block 1, Lot 36, Tropical Avenue Corner Tropic...</td>\n",
       "      <td>BF International</td>\n",
       "      <td>BF International, Las Piñas City</td>\n",
       "      <td>121.01</td>\n",
       "      <td>14.45</td>\n",
       "      <td>Italian</td>\n",
       "      <td>1100</td>\n",
       "      <td>Botswana Pula(P)</td>\n",
       "      <td>1</td>\n",
       "      <td>0</td>\n",
       "      <td>0</td>\n",
       "      <td>expensive</td>\n",
       "      <td>4.60</td>\n",
       "      <td>3F7E00</td>\n",
       "      <td>Excellent</td>\n",
       "      <td>619</td>\n",
       "      <td>darkgreen</td>\n",
       "      <td>81</td>\n",
       "    </tr>\n",
       "    <tr>\n",
       "      <th>2</th>\n",
       "      <td>6314542</td>\n",
       "      <td>Blackbird</td>\n",
       "      <td>Philippines</td>\n",
       "      <td>Makati City</td>\n",
       "      <td>Nielson Tower, Ayala Triangle Gardens, Salcedo...</td>\n",
       "      <td>Ayala Triangle Gardens, Salcedo Village, Makat...</td>\n",
       "      <td>Ayala Triangle Gardens, Salcedo Village, Makat...</td>\n",
       "      <td>121.02</td>\n",
       "      <td>14.56</td>\n",
       "      <td>European</td>\n",
       "      <td>3100</td>\n",
       "      <td>Botswana Pula(P)</td>\n",
       "      <td>0</td>\n",
       "      <td>0</td>\n",
       "      <td>0</td>\n",
       "      <td>gourmet</td>\n",
       "      <td>4.70</td>\n",
       "      <td>3F7E00</td>\n",
       "      <td>Excellent</td>\n",
       "      <td>469</td>\n",
       "      <td>darkgreen</td>\n",
       "      <td>228</td>\n",
       "    </tr>\n",
       "    <tr>\n",
       "      <th>3</th>\n",
       "      <td>6301293</td>\n",
       "      <td>Banapple</td>\n",
       "      <td>Philippines</td>\n",
       "      <td>Makati City</td>\n",
       "      <td>Ayala Triangle Gardens, Salcedo Village, Makat...</td>\n",
       "      <td>Ayala Triangle Gardens, Salcedo Village, Makat...</td>\n",
       "      <td>Ayala Triangle Gardens, Salcedo Village, Makat...</td>\n",
       "      <td>121.02</td>\n",
       "      <td>14.56</td>\n",
       "      <td>Filipino</td>\n",
       "      <td>800</td>\n",
       "      <td>Botswana Pula(P)</td>\n",
       "      <td>0</td>\n",
       "      <td>0</td>\n",
       "      <td>0</td>\n",
       "      <td>expensive</td>\n",
       "      <td>4.40</td>\n",
       "      <td>5BA829</td>\n",
       "      <td>Very Good</td>\n",
       "      <td>867</td>\n",
       "      <td>green</td>\n",
       "      <td>59</td>\n",
       "    </tr>\n",
       "    <tr>\n",
       "      <th>4</th>\n",
       "      <td>6315689</td>\n",
       "      <td>Bad Bird</td>\n",
       "      <td>Philippines</td>\n",
       "      <td>Makati City</td>\n",
       "      <td>Hole In The Wall, Floor 4, Century City Mall, ...</td>\n",
       "      <td>Century City Mall, Poblacion, Makati City</td>\n",
       "      <td>Century City Mall, Poblacion, Makati City, Mak...</td>\n",
       "      <td>121.03</td>\n",
       "      <td>14.57</td>\n",
       "      <td>American</td>\n",
       "      <td>700</td>\n",
       "      <td>Botswana Pula(P)</td>\n",
       "      <td>0</td>\n",
       "      <td>0</td>\n",
       "      <td>0</td>\n",
       "      <td>expensive</td>\n",
       "      <td>4.40</td>\n",
       "      <td>5BA829</td>\n",
       "      <td>Very Good</td>\n",
       "      <td>858</td>\n",
       "      <td>green</td>\n",
       "      <td>52</td>\n",
       "    </tr>\n",
       "    <tr>\n",
       "      <th>5</th>\n",
       "      <td>6304833</td>\n",
       "      <td>Manam</td>\n",
       "      <td>Philippines</td>\n",
       "      <td>Makati City</td>\n",
       "      <td>Level 1, Greenbelt 2, Ayala Center, Greenbelt,...</td>\n",
       "      <td>Greenbelt 2, San Lorenzo, Makati City</td>\n",
       "      <td>Greenbelt 2, San Lorenzo, Makati City, Makati ...</td>\n",
       "      <td>121.02</td>\n",
       "      <td>14.55</td>\n",
       "      <td>Filipino</td>\n",
       "      <td>700</td>\n",
       "      <td>Botswana Pula(P)</td>\n",
       "      <td>0</td>\n",
       "      <td>0</td>\n",
       "      <td>0</td>\n",
       "      <td>expensive</td>\n",
       "      <td>4.70</td>\n",
       "      <td>3F7E00</td>\n",
       "      <td>Excellent</td>\n",
       "      <td>930</td>\n",
       "      <td>darkgreen</td>\n",
       "      <td>52</td>\n",
       "    </tr>\n",
       "  </tbody>\n",
       "</table>\n",
       "</div>"
      ],
      "text/plain": [
       "   restaurant_id             restaurant_name      country            city  \\\n",
       "0        6310675  Mama Lou's Italian Kitchen  Philippines  Las Piñas City   \n",
       "2        6314542                   Blackbird  Philippines     Makati City   \n",
       "3        6301293                    Banapple  Philippines     Makati City   \n",
       "4        6315689                    Bad Bird  Philippines     Makati City   \n",
       "5        6304833                       Manam  Philippines     Makati City   \n",
       "\n",
       "                                             address  \\\n",
       "0  Block 1, Lot 36, Tropical Avenue Corner Tropic...   \n",
       "2  Nielson Tower, Ayala Triangle Gardens, Salcedo...   \n",
       "3  Ayala Triangle Gardens, Salcedo Village, Makat...   \n",
       "4  Hole In The Wall, Floor 4, Century City Mall, ...   \n",
       "5  Level 1, Greenbelt 2, Ayala Center, Greenbelt,...   \n",
       "\n",
       "                                            locality  \\\n",
       "0                                   BF International   \n",
       "2  Ayala Triangle Gardens, Salcedo Village, Makat...   \n",
       "3  Ayala Triangle Gardens, Salcedo Village, Makat...   \n",
       "4          Century City Mall, Poblacion, Makati City   \n",
       "5              Greenbelt 2, San Lorenzo, Makati City   \n",
       "\n",
       "                                    locality_verbose  longitude  latitude  \\\n",
       "0                   BF International, Las Piñas City     121.01     14.45   \n",
       "2  Ayala Triangle Gardens, Salcedo Village, Makat...     121.02     14.56   \n",
       "3  Ayala Triangle Gardens, Salcedo Village, Makat...     121.02     14.56   \n",
       "4  Century City Mall, Poblacion, Makati City, Mak...     121.03     14.57   \n",
       "5  Greenbelt 2, San Lorenzo, Makati City, Makati ...     121.02     14.55   \n",
       "\n",
       "   cuisines  average_cost_for_two          currency  has_table_booking  \\\n",
       "0   Italian                  1100  Botswana Pula(P)                  1   \n",
       "2  European                  3100  Botswana Pula(P)                  0   \n",
       "3  Filipino                   800  Botswana Pula(P)                  0   \n",
       "4  American                   700  Botswana Pula(P)                  0   \n",
       "5  Filipino                   700  Botswana Pula(P)                  0   \n",
       "\n",
       "   has_online_delivery  is_delivering_now price_range  aggregate_rating  \\\n",
       "0                    0                  0   expensive              4.60   \n",
       "2                    0                  0     gourmet              4.70   \n",
       "3                    0                  0   expensive              4.40   \n",
       "4                    0                  0   expensive              4.40   \n",
       "5                    0                  0   expensive              4.70   \n",
       "\n",
       "  rating_color rating_text  votes color_nome  converted_avg_cost_for_two  \n",
       "0       3F7E00   Excellent    619  darkgreen                          81  \n",
       "2       3F7E00   Excellent    469  darkgreen                         228  \n",
       "3       5BA829   Very Good    867      green                          59  \n",
       "4       5BA829   Very Good    858      green                          52  \n",
       "5       3F7E00   Excellent    930  darkgreen                          52  "
      ]
     },
     "execution_count": 27,
     "metadata": {},
     "output_type": "execute_result"
    }
   ],
   "source": [
    "df1.head()"
   ]
  },
  {
   "cell_type": "markdown",
   "metadata": {},
   "source": [
    "## Geral"
   ]
  },
  {
   "cell_type": "code",
   "execution_count": 28,
   "metadata": {},
   "outputs": [
    {
     "name": "stdout",
     "output_type": "stream",
     "text": [
      "Quantidade de restaurantes únicos cadastrados: 6928\n"
     ]
    }
   ],
   "source": [
    "rest_unicos = len(df1['restaurant_id'].unique())\n",
    "print(f'Quantidade de restaurantes únicos cadastrados: {rest_unicos}')"
   ]
  },
  {
   "cell_type": "code",
   "execution_count": 29,
   "metadata": {},
   "outputs": [
    {
     "name": "stdout",
     "output_type": "stream",
     "text": [
      "Quantidade de países únicos cadastrados: 15\n"
     ]
    }
   ],
   "source": [
    "paises_unicos = len(df1['country'].unique())\n",
    "print(f'Quantidade de países únicos cadastrados: {paises_unicos}')"
   ]
  },
  {
   "cell_type": "code",
   "execution_count": 30,
   "metadata": {},
   "outputs": [
    {
     "name": "stdout",
     "output_type": "stream",
     "text": [
      "Quantidade de cidades únicas cadastradas: 125\n"
     ]
    }
   ],
   "source": [
    "cidades_unicas = len(df1['city'].unique())\n",
    "print(f'Quantidade de cidades únicas cadastradas: {cidades_unicas}')"
   ]
  },
  {
   "cell_type": "code",
   "execution_count": 31,
   "metadata": {},
   "outputs": [
    {
     "name": "stdout",
     "output_type": "stream",
     "text": [
      "Quantidade de avaliações feitas: 4194330\n"
     ]
    }
   ],
   "source": [
    "qtd_avaliacoes = df1['votes'].sum()\n",
    "print(f'Quantidade de avaliações feitas: {qtd_avaliacoes}')"
   ]
  },
  {
   "cell_type": "code",
   "execution_count": 32,
   "metadata": {},
   "outputs": [
    {
     "name": "stdout",
     "output_type": "stream",
     "text": [
      "Quantidade de tipos de culinária registrados: 165\n"
     ]
    }
   ],
   "source": [
    "tipos_culinaria = len(df1['cuisines'].unique())\n",
    "print(f'Quantidade de tipos de culinária registrados: {tipos_culinaria}')"
   ]
  },
  {
   "cell_type": "markdown",
   "metadata": {},
   "source": [
    "## País"
   ]
  },
  {
   "cell_type": "code",
   "execution_count": 33,
   "metadata": {},
   "outputs": [
    {
     "name": "stdout",
     "output_type": "stream",
     "text": [
      "O país com o maior número de cidades registradas é a(o) India (49 cidades)\n"
     ]
    }
   ],
   "source": [
    "city_per_country = df1[['country', 'city']].groupby('country').nunique().sort_values(by='city', ascending=False).reset_index()\n",
    "print(f'O país com o maior número de cidades registradas é a(o) {city_per_country.iloc[0,0]} ({city_per_country.iloc[0,1]} cidades)')"
   ]
  },
  {
   "cell_type": "code",
   "execution_count": 34,
   "metadata": {},
   "outputs": [
    {
     "name": "stdout",
     "output_type": "stream",
     "text": [
      "O país com o maior número de restaurantes registrados é a(o) India (3111 restaurantes)\n"
     ]
    }
   ],
   "source": [
    "rest_per_country = df1[['country', 'restaurant_id']].groupby('country').nunique().sort_values(by='restaurant_id', ascending=False).reset_index()\n",
    "print(f'O país com o maior número de restaurantes registrados é a(o) {rest_per_country.iloc[0,0]} ({rest_per_country.iloc[0,1]} restaurantes)')"
   ]
  },
  {
   "cell_type": "code",
   "execution_count": 35,
   "metadata": {},
   "outputs": [
    {
     "name": "stdout",
     "output_type": "stream",
     "text": [
      "O país com o maior número de restaurantes com nível de preço 4 registrados é a(o) United States of America (415 restaurantes)\n"
     ]
    }
   ],
   "source": [
    "rest_4_per_country = df1[df1['price_range']=='gourmet'][['country', 'restaurant_id']].groupby('country').nunique().sort_values(by='restaurant_id', ascending=False).reset_index()\n",
    "print(f'O país com o maior número de restaurantes com nível de preço 4 registrados é a(o) {rest_4_per_country.iloc[0,0]} ({rest_4_per_country.iloc[0,1]} restaurantes)')"
   ]
  },
  {
   "cell_type": "code",
   "execution_count": 36,
   "metadata": {},
   "outputs": [
    {
     "name": "stdout",
     "output_type": "stream",
     "text": [
      "O país com o maior número de culinárias distantas registradas é a(o) India (77 culinárias)\n"
     ]
    }
   ],
   "source": [
    "cuisine_per_country = df1[['country', 'cuisines']].groupby('country').nunique().sort_values(by='cuisines', ascending=False).reset_index()\n",
    "print(f'O país com o maior número de culinárias distantas registradas é a(o) {cuisine_per_country.iloc[0,0]} ({cuisine_per_country.iloc[0,1]} culinárias)')"
   ]
  },
  {
   "cell_type": "code",
   "execution_count": 37,
   "metadata": {},
   "outputs": [
    {
     "name": "stdout",
     "output_type": "stream",
     "text": [
      "O país com a maior quantidade de avaliações é a(o) India (2800164 avaliações)\n"
     ]
    }
   ],
   "source": [
    "votes_per_country = df1[['country', 'votes']].groupby('country').sum().sort_values(by='votes', ascending=False).reset_index()\n",
    "print(f'O país com a maior quantidade de avaliações é a(o) {votes_per_country.iloc[0,0]} ({votes_per_country.iloc[0,1]} avaliações)')"
   ]
  },
  {
   "cell_type": "code",
   "execution_count": 38,
   "metadata": {},
   "outputs": [
    {
     "name": "stdout",
     "output_type": "stream",
     "text": [
      "O país com o maior número de restaurantes que fazem entrega é a(o) India (1150 restaurantes)\n"
     ]
    }
   ],
   "source": [
    "delivering_per_country = df1[df1['is_delivering_now']==1][['country', 'restaurant_id']].groupby('country').nunique().sort_values(by='restaurant_id', ascending=False).reset_index()\n",
    "print(f'O país com o maior número de restaurantes que fazem entrega é a(o) {delivering_per_country.iloc[0,0]} ({delivering_per_country.iloc[0,1]} restaurantes)')"
   ]
  },
  {
   "cell_type": "code",
   "execution_count": 39,
   "metadata": {},
   "outputs": [
    {
     "name": "stdout",
     "output_type": "stream",
     "text": [
      "O país com o maior número de restaurantes que aceitam reservas é a(o) India (256 restaurantes)\n"
     ]
    }
   ],
   "source": [
    "booking_per_country = df1[df1['has_table_booking']==1][['country', 'restaurant_id']].groupby('country').nunique().sort_values(by='restaurant_id', ascending=False).reset_index()\n",
    "print(f'O país com o maior número de restaurantes que aceitam reservas é a(o) {booking_per_country.iloc[0,0]} ({booking_per_country.iloc[0,1]} restaurantes)')"
   ]
  },
  {
   "cell_type": "code",
   "execution_count": 40,
   "metadata": {},
   "outputs": [
    {
     "name": "stdout",
     "output_type": "stream",
     "text": [
      "O país com a maior quantidade de avaliações na média é a(o) Indonesia (1112.825 avaliações)\n"
     ]
    }
   ],
   "source": [
    "votes_avg_per_country = df1[['country', 'votes']].groupby('country').mean().sort_values(by='votes', ascending=False).reset_index()\n",
    "print(f'O país com a maior quantidade de avaliações na média é a(o) {votes_avg_per_country.iloc[0,0]} ({votes_avg_per_country.iloc[0,1]} avaliações)')"
   ]
  },
  {
   "cell_type": "code",
   "execution_count": 41,
   "metadata": {},
   "outputs": [
    {
     "name": "stdout",
     "output_type": "stream",
     "text": [
      "O país que possui, na média, a maior nota média é a(o) Indonesia (4.6 de nota)\n"
     ]
    }
   ],
   "source": [
    "avg_rating_per_country = df1[['country', 'aggregate_rating']].groupby('country').mean().sort_values(by='aggregate_rating', ascending=False).reset_index()\n",
    "print(f'O país que possui, na média, a maior nota média é a(o) {avg_rating_per_country.iloc[0,0]} ({round(avg_rating_per_country.iloc[0,1],2)} de nota)')"
   ]
  },
  {
   "cell_type": "code",
   "execution_count": 42,
   "metadata": {},
   "outputs": [
    {
     "name": "stdout",
     "output_type": "stream",
     "text": [
      "O país que possui, na média, a menor nota média é a(o) Brazil (3.32 de nota)\n"
     ]
    }
   ],
   "source": [
    "avg_rating_per_country = df1[['country', 'aggregate_rating']].groupby('country').mean().sort_values(by='aggregate_rating', ascending=True).reset_index()\n",
    "print(f'O país que possui, na média, a menor nota média é a(o) {avg_rating_per_country.iloc[0,0]} ({round(avg_rating_per_country.iloc[0,1],2)} de nota)')"
   ]
  },
  {
   "cell_type": "code",
   "execution_count": 43,
   "metadata": {},
   "outputs": [
    {
     "data": {
      "text/html": [
       "<div>\n",
       "<style scoped>\n",
       "    .dataframe tbody tr th:only-of-type {\n",
       "        vertical-align: middle;\n",
       "    }\n",
       "\n",
       "    .dataframe tbody tr th {\n",
       "        vertical-align: top;\n",
       "    }\n",
       "\n",
       "    .dataframe thead th {\n",
       "        text-align: right;\n",
       "    }\n",
       "</style>\n",
       "<table border=\"1\" class=\"dataframe\">\n",
       "  <thead>\n",
       "    <tr style=\"text-align: right;\">\n",
       "      <th></th>\n",
       "      <th>average_cost_for_two</th>\n",
       "    </tr>\n",
       "    <tr>\n",
       "      <th>country</th>\n",
       "      <th></th>\n",
       "    </tr>\n",
       "  </thead>\n",
       "  <tbody>\n",
       "    <tr>\n",
       "      <th>Canada</th>\n",
       "      <td>41.86</td>\n",
       "    </tr>\n",
       "    <tr>\n",
       "      <th>England</th>\n",
       "      <td>43.51</td>\n",
       "    </tr>\n",
       "    <tr>\n",
       "      <th>United States of America</th>\n",
       "      <td>55.03</td>\n",
       "    </tr>\n",
       "    <tr>\n",
       "      <th>New Zeland</th>\n",
       "      <td>62.15</td>\n",
       "    </tr>\n",
       "    <tr>\n",
       "      <th>Australia</th>\n",
       "      <td>71.20</td>\n",
       "    </tr>\n",
       "    <tr>\n",
       "      <th>Turkey</th>\n",
       "      <td>128.58</td>\n",
       "    </tr>\n",
       "    <tr>\n",
       "      <th>Brazil</th>\n",
       "      <td>138.81</td>\n",
       "    </tr>\n",
       "    <tr>\n",
       "      <th>Singapure</th>\n",
       "      <td>141.44</td>\n",
       "    </tr>\n",
       "    <tr>\n",
       "      <th>United Arab Emirates</th>\n",
       "      <td>153.72</td>\n",
       "    </tr>\n",
       "    <tr>\n",
       "      <th>Qatar</th>\n",
       "      <td>174.00</td>\n",
       "    </tr>\n",
       "    <tr>\n",
       "      <th>South Africa</th>\n",
       "      <td>339.23</td>\n",
       "    </tr>\n",
       "    <tr>\n",
       "      <th>India</th>\n",
       "      <td>704.40</td>\n",
       "    </tr>\n",
       "    <tr>\n",
       "      <th>Philippines</th>\n",
       "      <td>1227.83</td>\n",
       "    </tr>\n",
       "    <tr>\n",
       "      <th>Sri Lanka</th>\n",
       "      <td>2579.38</td>\n",
       "    </tr>\n",
       "    <tr>\n",
       "      <th>Indonesia</th>\n",
       "      <td>303000.00</td>\n",
       "    </tr>\n",
       "  </tbody>\n",
       "</table>\n",
       "</div>"
      ],
      "text/plain": [
       "                          average_cost_for_two\n",
       "country                                       \n",
       "Canada                                   41.86\n",
       "England                                  43.51\n",
       "United States of America                 55.03\n",
       "New Zeland                               62.15\n",
       "Australia                                71.20\n",
       "Turkey                                  128.58\n",
       "Brazil                                  138.81\n",
       "Singapure                               141.44\n",
       "United Arab Emirates                    153.72\n",
       "Qatar                                   174.00\n",
       "South Africa                            339.23\n",
       "India                                   704.40\n",
       "Philippines                            1227.83\n",
       "Sri Lanka                              2579.38\n",
       "Indonesia                            303000.00"
      ]
     },
     "execution_count": 43,
     "metadata": {},
     "output_type": "execute_result"
    }
   ],
   "source": [
    "avg_cost_per_country = df1[['country', 'average_cost_for_two']].groupby('country').mean().sort_values(by='average_cost_for_two', ascending=True)\n",
    "avg_cost_per_country"
   ]
  },
  {
   "cell_type": "code",
   "execution_count": 44,
   "metadata": {},
   "outputs": [
    {
     "data": {
      "text/html": [
       "<div>\n",
       "<style scoped>\n",
       "    .dataframe tbody tr th:only-of-type {\n",
       "        vertical-align: middle;\n",
       "    }\n",
       "\n",
       "    .dataframe tbody tr th {\n",
       "        vertical-align: top;\n",
       "    }\n",
       "\n",
       "    .dataframe thead th {\n",
       "        text-align: right;\n",
       "    }\n",
       "</style>\n",
       "<table border=\"1\" class=\"dataframe\">\n",
       "  <thead>\n",
       "    <tr style=\"text-align: right;\">\n",
       "      <th></th>\n",
       "      <th>converted_avg_cost_for_two</th>\n",
       "    </tr>\n",
       "    <tr>\n",
       "      <th>country</th>\n",
       "      <th></th>\n",
       "    </tr>\n",
       "  </thead>\n",
       "  <tbody>\n",
       "    <tr>\n",
       "      <th>Turkey</th>\n",
       "      <td>4.00</td>\n",
       "    </tr>\n",
       "    <tr>\n",
       "      <th>Sri Lanka</th>\n",
       "      <td>8.44</td>\n",
       "    </tr>\n",
       "    <tr>\n",
       "      <th>India</th>\n",
       "      <td>8.46</td>\n",
       "    </tr>\n",
       "    <tr>\n",
       "      <th>South Africa</th>\n",
       "      <td>18.23</td>\n",
       "    </tr>\n",
       "    <tr>\n",
       "      <th>Indonesia</th>\n",
       "      <td>19.34</td>\n",
       "    </tr>\n",
       "    <tr>\n",
       "      <th>Brazil</th>\n",
       "      <td>27.77</td>\n",
       "    </tr>\n",
       "    <tr>\n",
       "      <th>New Zeland</th>\n",
       "      <td>38.42</td>\n",
       "    </tr>\n",
       "    <tr>\n",
       "      <th>Canada</th>\n",
       "      <td>41.86</td>\n",
       "    </tr>\n",
       "    <tr>\n",
       "      <th>United Arab Emirates</th>\n",
       "      <td>41.89</td>\n",
       "    </tr>\n",
       "    <tr>\n",
       "      <th>Qatar</th>\n",
       "      <td>47.74</td>\n",
       "    </tr>\n",
       "    <tr>\n",
       "      <th>United States of America</th>\n",
       "      <td>55.03</td>\n",
       "    </tr>\n",
       "    <tr>\n",
       "      <th>England</th>\n",
       "      <td>55.67</td>\n",
       "    </tr>\n",
       "    <tr>\n",
       "      <th>Australia</th>\n",
       "      <td>71.20</td>\n",
       "    </tr>\n",
       "    <tr>\n",
       "      <th>Philippines</th>\n",
       "      <td>90.44</td>\n",
       "    </tr>\n",
       "    <tr>\n",
       "      <th>Singapure</th>\n",
       "      <td>141.44</td>\n",
       "    </tr>\n",
       "  </tbody>\n",
       "</table>\n",
       "</div>"
      ],
      "text/plain": [
       "                          converted_avg_cost_for_two\n",
       "country                                             \n",
       "Turkey                                          4.00\n",
       "Sri Lanka                                       8.44\n",
       "India                                           8.46\n",
       "South Africa                                   18.23\n",
       "Indonesia                                      19.34\n",
       "Brazil                                         27.77\n",
       "New Zeland                                     38.42\n",
       "Canada                                         41.86\n",
       "United Arab Emirates                           41.89\n",
       "Qatar                                          47.74\n",
       "United States of America                       55.03\n",
       "England                                        55.67\n",
       "Australia                                      71.20\n",
       "Philippines                                    90.44\n",
       "Singapure                                     141.44"
      ]
     },
     "execution_count": 44,
     "metadata": {},
     "output_type": "execute_result"
    }
   ],
   "source": [
    "converted_avg_cost_per_country = df1[['country', 'converted_avg_cost_for_two']].groupby('country').mean().sort_values(by='converted_avg_cost_for_two', ascending=True)\n",
    "converted_avg_cost_per_country"
   ]
  },
  {
   "cell_type": "markdown",
   "metadata": {},
   "source": [
    "## Cidade"
   ]
  },
  {
   "cell_type": "code",
   "execution_count": 48,
   "metadata": {},
   "outputs": [
    {
     "name": "stdout",
     "output_type": "stream",
     "text": [
      "A cidade com o maior número de restaurantes registrados é Abu Dhabi (80 restaurantes)\n"
     ]
    }
   ],
   "source": [
    "rest_per_city = df1[['city', 'restaurant_id']].groupby('city').nunique().sort_values(by='restaurant_id', ascending=False).reset_index()\n",
    "print(f'A cidade com o maior número de restaurantes registrados é {rest_per_city.iloc[0,0]} ({rest_per_city.iloc[0,1]} restaurantes)')"
   ]
  },
  {
   "cell_type": "code",
   "execution_count": 49,
   "metadata": {},
   "outputs": [
    {
     "name": "stdout",
     "output_type": "stream",
     "text": [
      "A cidade com o maior número de restaurantes com nota média acima de 4 é Bangalore (79 restaurantes)\n"
     ]
    }
   ],
   "source": [
    "rest4_per_city = df1[df1['aggregate_rating']>4][['city', 'restaurant_id']].groupby('city').nunique().sort_values(by='restaurant_id', ascending=False).reset_index()\n",
    "print(f'A cidade com o maior número de restaurantes com nota média acima de 4 é {rest4_per_city.iloc[0,0]} ({rest4_per_city.iloc[0,1]} restaurantes)')"
   ]
  },
  {
   "cell_type": "code",
   "execution_count": 50,
   "metadata": {},
   "outputs": [
    {
     "name": "stdout",
     "output_type": "stream",
     "text": [
      "A cidade com o maior número de restaurantes com nota média abaixo de 2.5 é Gangtok (33 restaurantes)\n"
     ]
    }
   ],
   "source": [
    "rest25_per_city = df1[df1['aggregate_rating']<2.5][['city', 'restaurant_id']].groupby('city').nunique().sort_values(by='restaurant_id', ascending=False).reset_index()\n",
    "print(f'A cidade com o maior número de restaurantes com nota média abaixo de 2.5 é {rest25_per_city.iloc[0,0]} ({rest25_per_city.iloc[0,1]} restaurantes)')"
   ]
  },
  {
   "cell_type": "code",
   "execution_count": 51,
   "metadata": {},
   "outputs": [
    {
     "name": "stdout",
     "output_type": "stream",
     "text": [
      "A cidade com o maior valor médio de um prato para dois é Jakarta (309605.26)\n"
     ]
    }
   ],
   "source": [
    "cost_per_city = df1[['city', 'average_cost_for_two']].groupby('city').mean().sort_values(by='average_cost_for_two', ascending=False).reset_index()\n",
    "print(f'A cidade com o maior valor médio de um prato para dois é {cost_per_city.iloc[0,0]} ({round(cost_per_city.iloc[0,1],2)})')"
   ]
  },
  {
   "cell_type": "code",
   "execution_count": 52,
   "metadata": {},
   "outputs": [
    {
     "name": "stdout",
     "output_type": "stream",
     "text": [
      "A cidade com o maior valor médio de um prato para dois (convertido para USD) é Pasay City (294.5)\n"
     ]
    }
   ],
   "source": [
    "converted_cost_per_city = df1[['city', 'converted_avg_cost_for_two']].groupby('city').mean().sort_values(by='converted_avg_cost_for_two', ascending=False).reset_index()\n",
    "print(f'A cidade com o maior valor médio de um prato para dois (convertido para USD) é {converted_cost_per_city.iloc[0,0]} ({round(converted_cost_per_city.iloc[0,1],2)})')"
   ]
  },
  {
   "cell_type": "code",
   "execution_count": 53,
   "metadata": {},
   "outputs": [
    {
     "name": "stdout",
     "output_type": "stream",
     "text": [
      "A cidade com o maior número de culinárias distintas é Birmingham (32 culinárias)\n"
     ]
    }
   ],
   "source": [
    "cuisines_per_city = df1[['city', 'cuisines']].groupby('city').nunique().sort_values(by='cuisines', ascending=False).reset_index()\n",
    "print(f'A cidade com o maior número de culinárias distintas é {cuisines_per_city.iloc[0,0]} ({cuisines_per_city.iloc[0,1]} culinárias)')"
   ]
  },
  {
   "cell_type": "code",
   "execution_count": 54,
   "metadata": {},
   "outputs": [
    {
     "name": "stdout",
     "output_type": "stream",
     "text": [
      "A cidade com o maior número de restaurantes que fazem reserva é Bangalore (42 restaurantes)\n"
     ]
    }
   ],
   "source": [
    "booking_per_city = df1[df1['has_table_booking']==1][['city', 'restaurant_id']].groupby('city').nunique().sort_values(by='restaurant_id', ascending=False).reset_index()\n",
    "print(f'A cidade com o maior número de restaurantes que fazem reserva é {booking_per_city.iloc[0,0]} ({booking_per_city.iloc[0,1]} restaurantes)')"
   ]
  },
  {
   "cell_type": "code",
   "execution_count": 55,
   "metadata": {},
   "outputs": [
    {
     "name": "stdout",
     "output_type": "stream",
     "text": [
      "A cidade com o maior número de restaurantes que fazem entrega é Vadodara (48 restaurantes)\n"
     ]
    }
   ],
   "source": [
    "delivery_per_city = df1[df1['is_delivering_now']==1][['city', 'restaurant_id']].groupby('city').nunique().sort_values(by='restaurant_id', ascending=False).reset_index()\n",
    "print(f'A cidade com o maior número de restaurantes que fazem entrega é {delivery_per_city.iloc[0,0]} ({delivery_per_city.iloc[0,1]} restaurantes)')"
   ]
  },
  {
   "cell_type": "code",
   "execution_count": 56,
   "metadata": {},
   "outputs": [
    {
     "name": "stdout",
     "output_type": "stream",
     "text": [
      "A cidade com o maior número de restaurantes que fazem aceitam pedidos online é Vadodara (48 restaurantes)\n"
     ]
    }
   ],
   "source": [
    "online_per_city = df1[df1['has_online_delivery']==1][['city', 'restaurant_id']].groupby('city').nunique().sort_values(by='restaurant_id', ascending=False).reset_index()\n",
    "print(f'A cidade com o maior número de restaurantes que fazem aceitam pedidos online é {delivery_per_city.iloc[0,0]} ({delivery_per_city.iloc[0,1]} restaurantes)')"
   ]
  },
  {
   "cell_type": "markdown",
   "metadata": {},
   "source": [
    "## Restaurantes"
   ]
  },
  {
   "cell_type": "code",
   "execution_count": 57,
   "metadata": {},
   "outputs": [
    {
     "name": "stdout",
     "output_type": "stream",
     "text": [
      "O restaurante com a maior quantidade de avaliações é a(o) Bawarchi (41333 avaliações)\n"
     ]
    }
   ],
   "source": [
    "votes_per_rest = df1[['restaurant_id', 'restaurant_name', 'votes']].sort_values(by=['votes', 'restaurant_id'], ascending=[False, True])\n",
    "print(f'O restaurante com a maior quantidade de avaliações é a(o) {votes_per_rest.iloc[0,1]} ({votes_per_rest.iloc[0,2]} avaliações)')"
   ]
  },
  {
   "cell_type": "code",
   "execution_count": 58,
   "metadata": {},
   "outputs": [
    {
     "name": "stdout",
     "output_type": "stream",
     "text": [
      "O restaurante com a maior nota média é a(o) Indian Grill Room (4.9)\n"
     ]
    }
   ],
   "source": [
    "rating_per_rest = df1[['restaurant_id', 'restaurant_name', 'aggregate_rating']].sort_values(by=['aggregate_rating', 'restaurant_id'], ascending=[False,True])\n",
    "print(f'O restaurante com a maior nota média é a(o) {rating_per_rest.iloc[0,1]} ({round(rating_per_rest.iloc[0,2],2)})')"
   ]
  },
  {
   "cell_type": "code",
   "execution_count": 59,
   "metadata": {},
   "outputs": [
    {
     "name": "stdout",
     "output_type": "stream",
     "text": [
      "O restaurante com o maior valor para duas pessoas é a(o) The Café - Hotel Mulia (1200000)\n"
     ]
    }
   ],
   "source": [
    "cost_per_rest = df1[['restaurant_id', 'restaurant_name', 'average_cost_for_two']].sort_values(by=['average_cost_for_two', 'restaurant_id'], ascending=[False, True])\n",
    "print(f'O restaurante com o maior valor para duas pessoas é a(o) {cost_per_rest.iloc[0,1]} ({round(cost_per_rest.iloc[0,2],2)})')"
   ]
  },
  {
   "cell_type": "code",
   "execution_count": 60,
   "metadata": {},
   "outputs": [
    {
     "name": "stdout",
     "output_type": "stream",
     "text": [
      "O restaurante com o maior valor para duas pessoas (convertido para USD) é a(o) Corner House (755)\n"
     ]
    }
   ],
   "source": [
    "converted_cost_per_rest = df1[['restaurant_id', 'restaurant_name', 'converted_avg_cost_for_two']].sort_values(by=['converted_avg_cost_for_two', 'restaurant_id'], ascending=[False, True])\n",
    "print(f'O restaurante com o maior valor para duas pessoas (convertido para USD) é a(o) {converted_cost_per_rest.iloc[0,1]} ({round(converted_cost_per_rest.iloc[0,2],2)})')"
   ]
  },
  {
   "cell_type": "code",
   "execution_count": 61,
   "metadata": {},
   "outputs": [
    {
     "name": "stdout",
     "output_type": "stream",
     "text": [
      "O restaurante de culinária Brasileira com a pior nota média é a(o) Loca Como tu Madre (0.0)\n"
     ]
    }
   ],
   "source": [
    "lowest_rating_br = df1[df1['cuisines']=='Brazilian'][['restaurant_id', 'restaurant_name', 'aggregate_rating']].sort_values(by=['aggregate_rating','restaurant_id'], ascending=True)\n",
    "print(f'O restaurante de culinária Brasileira com a pior nota média é a(o) {lowest_rating_br.iloc[0,1]} ({round(lowest_rating_br.iloc[0,2],2)})')"
   ]
  },
  {
   "cell_type": "code",
   "execution_count": 62,
   "metadata": {},
   "outputs": [
    {
     "name": "stdout",
     "output_type": "stream",
     "text": [
      "O restaurante de culinária Brasileira e que é de Brasil com a maior nota média é a(o) Braseiro da Gávea (4.9)\n"
     ]
    }
   ],
   "source": [
    "highest_rating_br = df1[(df1['cuisines']=='Brazilian')&(df1['country']=='Brazil')][['restaurant_id', 'restaurant_name', 'aggregate_rating']].sort_values(by=['aggregate_rating','restaurant_id'], ascending=[False, True])\n",
    "print(f'O restaurante de culinária Brasileira e que é de Brasil com a maior nota média é a(o) {highest_rating_br.iloc[0,1]} ({round(highest_rating_br.iloc[0,2],2)})')"
   ]
  },
  {
   "cell_type": "code",
   "execution_count": 63,
   "metadata": {},
   "outputs": [
    {
     "data": {
      "text/html": [
       "<div>\n",
       "<style scoped>\n",
       "    .dataframe tbody tr th:only-of-type {\n",
       "        vertical-align: middle;\n",
       "    }\n",
       "\n",
       "    .dataframe tbody tr th {\n",
       "        vertical-align: top;\n",
       "    }\n",
       "\n",
       "    .dataframe thead th {\n",
       "        text-align: right;\n",
       "    }\n",
       "</style>\n",
       "<table border=\"1\" class=\"dataframe\">\n",
       "  <thead>\n",
       "    <tr style=\"text-align: right;\">\n",
       "      <th></th>\n",
       "      <th>votes</th>\n",
       "    </tr>\n",
       "    <tr>\n",
       "      <th>has_online_delivery</th>\n",
       "      <th></th>\n",
       "    </tr>\n",
       "  </thead>\n",
       "  <tbody>\n",
       "    <tr>\n",
       "      <th>0</th>\n",
       "      <td>479.48</td>\n",
       "    </tr>\n",
       "    <tr>\n",
       "      <th>1</th>\n",
       "      <td>838.82</td>\n",
       "    </tr>\n",
       "  </tbody>\n",
       "</table>\n",
       "</div>"
      ],
      "text/plain": [
       "                     votes\n",
       "has_online_delivery       \n",
       "0                   479.48\n",
       "1                   838.82"
      ]
     },
     "execution_count": 63,
     "metadata": {},
     "output_type": "execute_result"
    }
   ],
   "source": [
    "df1[['votes', 'has_online_delivery']].groupby('has_online_delivery').mean()"
   ]
  },
  {
   "cell_type": "markdown",
   "metadata": {},
   "source": [
    "A média da quantidade de avaliações para os restaurante que aceitam pedidos online é consideravelmente maior do que a dos restaurantes que não aceitam pedido online."
   ]
  },
  {
   "cell_type": "code",
   "execution_count": 64,
   "metadata": {},
   "outputs": [
    {
     "data": {
      "text/html": [
       "<div>\n",
       "<style scoped>\n",
       "    .dataframe tbody tr th:only-of-type {\n",
       "        vertical-align: middle;\n",
       "    }\n",
       "\n",
       "    .dataframe tbody tr th {\n",
       "        vertical-align: top;\n",
       "    }\n",
       "\n",
       "    .dataframe thead th {\n",
       "        text-align: right;\n",
       "    }\n",
       "</style>\n",
       "<table border=\"1\" class=\"dataframe\">\n",
       "  <thead>\n",
       "    <tr style=\"text-align: right;\">\n",
       "      <th></th>\n",
       "      <th>average_cost_for_two</th>\n",
       "    </tr>\n",
       "    <tr>\n",
       "      <th>has_table_booking</th>\n",
       "      <th></th>\n",
       "    </tr>\n",
       "  </thead>\n",
       "  <tbody>\n",
       "    <tr>\n",
       "      <th>0</th>\n",
       "      <td>3488.60</td>\n",
       "    </tr>\n",
       "    <tr>\n",
       "      <th>1</th>\n",
       "      <td>10499.57</td>\n",
       "    </tr>\n",
       "  </tbody>\n",
       "</table>\n",
       "</div>"
      ],
      "text/plain": [
       "                   average_cost_for_two\n",
       "has_table_booking                      \n",
       "0                               3488.60\n",
       "1                              10499.57"
      ]
     },
     "execution_count": 64,
     "metadata": {},
     "output_type": "execute_result"
    }
   ],
   "source": [
    "df1[['has_table_booking', 'average_cost_for_two']].groupby('has_table_booking').mean()"
   ]
  },
  {
   "cell_type": "code",
   "execution_count": 65,
   "metadata": {},
   "outputs": [
    {
     "data": {
      "text/html": [
       "<div>\n",
       "<style scoped>\n",
       "    .dataframe tbody tr th:only-of-type {\n",
       "        vertical-align: middle;\n",
       "    }\n",
       "\n",
       "    .dataframe tbody tr th {\n",
       "        vertical-align: top;\n",
       "    }\n",
       "\n",
       "    .dataframe thead th {\n",
       "        text-align: right;\n",
       "    }\n",
       "</style>\n",
       "<table border=\"1\" class=\"dataframe\">\n",
       "  <thead>\n",
       "    <tr style=\"text-align: right;\">\n",
       "      <th></th>\n",
       "      <th>converted_avg_cost_for_two</th>\n",
       "    </tr>\n",
       "    <tr>\n",
       "      <th>has_table_booking</th>\n",
       "      <th></th>\n",
       "    </tr>\n",
       "  </thead>\n",
       "  <tbody>\n",
       "    <tr>\n",
       "      <th>0</th>\n",
       "      <td>29.10</td>\n",
       "    </tr>\n",
       "    <tr>\n",
       "      <th>1</th>\n",
       "      <td>35.90</td>\n",
       "    </tr>\n",
       "  </tbody>\n",
       "</table>\n",
       "</div>"
      ],
      "text/plain": [
       "                   converted_avg_cost_for_two\n",
       "has_table_booking                            \n",
       "0                                       29.10\n",
       "1                                       35.90"
      ]
     },
     "execution_count": 65,
     "metadata": {},
     "output_type": "execute_result"
    }
   ],
   "source": [
    "df1[['has_table_booking', 'converted_avg_cost_for_two']].groupby('has_table_booking').mean()"
   ]
  },
  {
   "cell_type": "markdown",
   "metadata": {},
   "source": [
    "A média do valor de um prato para duas pessoas é consideravelmente maior para restaurantes que aceitam reservas."
   ]
  },
  {
   "cell_type": "code",
   "execution_count": 66,
   "metadata": {},
   "outputs": [
    {
     "data": {
      "text/html": [
       "<div>\n",
       "<style scoped>\n",
       "    .dataframe tbody tr th:only-of-type {\n",
       "        vertical-align: middle;\n",
       "    }\n",
       "\n",
       "    .dataframe tbody tr th {\n",
       "        vertical-align: top;\n",
       "    }\n",
       "\n",
       "    .dataframe thead th {\n",
       "        text-align: right;\n",
       "    }\n",
       "</style>\n",
       "<table border=\"1\" class=\"dataframe\">\n",
       "  <thead>\n",
       "    <tr style=\"text-align: right;\">\n",
       "      <th></th>\n",
       "      <th>average_cost_for_two</th>\n",
       "    </tr>\n",
       "    <tr>\n",
       "      <th>cuisines</th>\n",
       "      <th></th>\n",
       "    </tr>\n",
       "  </thead>\n",
       "  <tbody>\n",
       "    <tr>\n",
       "      <th>BBQ</th>\n",
       "      <td>39.64</td>\n",
       "    </tr>\n",
       "    <tr>\n",
       "      <th>Japanese</th>\n",
       "      <td>56.41</td>\n",
       "    </tr>\n",
       "  </tbody>\n",
       "</table>\n",
       "</div>"
      ],
      "text/plain": [
       "          average_cost_for_two\n",
       "cuisines                      \n",
       "BBQ                      39.64\n",
       "Japanese                 56.41"
      ]
     },
     "execution_count": 66,
     "metadata": {},
     "output_type": "execute_result"
    }
   ],
   "source": [
    "dfaux = df1.query(\"(country == 'United States of America') & (cuisines.isin(['BBQ', 'Japanese']))\")\n",
    "dfaux[['cuisines', 'average_cost_for_two']].groupby('cuisines').mean()"
   ]
  },
  {
   "cell_type": "markdown",
   "metadata": {},
   "source": [
    "A média do valor de um prato para duas pessoas nos Estados Unidos é maior para restaurantes com a culinária Japonesa do que churrascarias (BBQ)"
   ]
  },
  {
   "cell_type": "markdown",
   "metadata": {},
   "source": [
    "## Culinárias"
   ]
  },
  {
   "cell_type": "code",
   "execution_count": 67,
   "metadata": {},
   "outputs": [
    {
     "data": {
      "text/plain": [
       "array(['Afghan', 'African', 'American', 'Andhra', 'Arabian', 'Argentine',\n",
       "       'Armenian', 'Asian', 'Asian Fusion', 'Assamese', 'Australian',\n",
       "       'Author', 'Awadhi', 'BBQ', 'Bakery', 'Balti', 'Bar Food',\n",
       "       'Belgian', 'Bengali', 'Beverages', 'Biryani', 'Brazilian',\n",
       "       'Breakfast', 'British', 'Burger', 'Burmese', 'Cafe', 'Cafe Food',\n",
       "       'Cajun', 'California', 'Canadian', 'Cantonese', 'Caribbean',\n",
       "       'Charcoal Chicken', 'Chettinad', 'Chinese', 'Coffee',\n",
       "       'Coffee and Tea', 'Contemporary', 'Continental', 'Creole',\n",
       "       'Crepes', 'Cuban', 'Deli', 'Desserts', 'Dim Sum', 'Dimsum',\n",
       "       'Diner', 'Donuts', 'Drinks Only', 'Durban', 'Döner',\n",
       "       'Eastern European', 'Egyptian', 'European', 'Fast Food',\n",
       "       'Filipino', 'Finger Food', 'Fish and Chips', 'French',\n",
       "       'Fresh Fish', 'Fusion', 'German', 'Giblets', 'Goan',\n",
       "       'Gourmet Fast Food', 'Greek', 'Grill', 'Gujarati', 'Hawaiian',\n",
       "       'Healthy Food', 'Home-made', 'Hyderabadi', 'Ice Cream', 'Indian',\n",
       "       'Indonesian', 'International', 'Iranian', 'Irish', 'Italian',\n",
       "       'Izgara', 'Japanese', 'Juices', 'Kebab', 'Kerala', 'Khaleeji',\n",
       "       'Kiwi', 'Kokoreç', 'Korean', 'Korean BBQ', 'Kumpir',\n",
       "       'Latin American', 'Lebanese', 'Lucknowi', 'Maharashtrian',\n",
       "       'Malaysian', 'Malwani', 'Mandi', 'Mangalorean', 'Mediterranean',\n",
       "       'Mexican', 'Middle Eastern', 'Mineira', 'Mithai',\n",
       "       'Modern Australian', 'Modern Indian', 'Momos', 'Mongolian',\n",
       "       'Moroccan', 'Mughlai', 'Naga', 'Nepalese', 'New American',\n",
       "       'New Mexican', 'North Eastern', 'North Indian', 'Old Turkish Bars',\n",
       "       'Others', 'Ottoman', 'Pacific Northwest', 'Pakistani', 'Pan Asian',\n",
       "       'Parsi', 'Patisserie', 'Peruvian', 'Pizza', 'Polish', 'Portuguese',\n",
       "       'Pub Food', 'Rajasthani', 'Ramen', 'Restaurant Cafe',\n",
       "       'Roast Chicken', 'Rolls', 'Russian', 'Salad', 'Sandwich',\n",
       "       'Scottish', 'Seafood', 'Singaporean', 'South African',\n",
       "       'South Indian', 'Southern', 'Southwestern', 'Spanish',\n",
       "       'Sri Lankan', 'Steak', 'Street Food', 'Sunda', 'Sushi', 'Taco',\n",
       "       'Taiwanese', 'Tapas', 'Tea', 'Tex-Mex', 'Thai', 'Tibetan',\n",
       "       'Turkish', 'Turkish Pizza', 'Ukrainian', 'Vegetarian',\n",
       "       'Vietnamese', 'Western', 'World Cuisine', 'Yum Cha'], dtype=object)"
      ]
     },
     "execution_count": 67,
     "metadata": {},
     "output_type": "execute_result"
    }
   ],
   "source": [
    "np.sort(df1.cuisines.unique())"
   ]
  },
  {
   "cell_type": "code",
   "execution_count": 68,
   "metadata": {},
   "outputs": [
    {
     "name": "stdout",
     "output_type": "stream",
     "text": [
      "O restaurante de culinária Italiana com a maior nota média é a(o) Darshan (4.9)\n"
     ]
    }
   ],
   "source": [
    "italian_highest_rating = df1[df1['cuisines']=='Italian'][['restaurant_id', 'restaurant_name', 'aggregate_rating']].sort_values(by=['aggregate_rating','restaurant_id'], ascending=[False, True])\n",
    "print(f'O restaurante de culinária Italiana com a maior nota média é a(o) {italian_highest_rating.iloc[0,1]} ({round(italian_highest_rating.iloc[0,2],2)})')"
   ]
  },
  {
   "cell_type": "code",
   "execution_count": 69,
   "metadata": {},
   "outputs": [
    {
     "name": "stdout",
     "output_type": "stream",
     "text": [
      "O restaurante de culinária Italiana com a menor nota média é a(o) Avenida Paulista (0.0)\n"
     ]
    }
   ],
   "source": [
    "dfaux = df1[df1['cuisines']=='Italian'][['restaurant_id', 'restaurant_name', 'aggregate_rating']].sort_values(by=['aggregate_rating','restaurant_id'], ascending=[True, True])\n",
    "print(f'O restaurante de culinária Italiana com a menor nota média é a(o) {dfaux.iloc[0,1]} ({round(dfaux.iloc[0,2],2)})')"
   ]
  },
  {
   "cell_type": "code",
   "execution_count": 70,
   "metadata": {},
   "outputs": [
    {
     "name": "stdout",
     "output_type": "stream",
     "text": [
      "O restaurante de culinária Americana com a maior nota média é a(o) Burger & Lobster (4.9)\n"
     ]
    }
   ],
   "source": [
    "dfaux = df1[df1['cuisines']=='American'][['restaurant_id', 'restaurant_name', 'aggregate_rating']].sort_values(by=['aggregate_rating','restaurant_id'], ascending=[False, True])\n",
    "print(f'O restaurante de culinária Americana com a maior nota média é a(o) {dfaux.iloc[0,1]} ({round(dfaux.iloc[0,2],2)})')"
   ]
  },
  {
   "cell_type": "code",
   "execution_count": 71,
   "metadata": {},
   "outputs": [
    {
     "name": "stdout",
     "output_type": "stream",
     "text": [
      "O restaurante de culinária Americana com a menor nota média é a(o) Alston Bar & Beef (0.0)\n"
     ]
    }
   ],
   "source": [
    "dfaux = df1[df1['cuisines']=='American'][['restaurant_id', 'restaurant_name', 'aggregate_rating']].sort_values(by=['aggregate_rating','restaurant_id'], ascending=[True, True])\n",
    "print(f'O restaurante de culinária Americana com a menor nota média é a(o) {dfaux.iloc[0,1]} ({round(dfaux.iloc[0,2],2)})')"
   ]
  },
  {
   "cell_type": "code",
   "execution_count": 72,
   "metadata": {},
   "outputs": [
    {
     "name": "stdout",
     "output_type": "stream",
     "text": [
      "O restaurante de culinária Árabe com a menor nota média é a(o) Raful (0.0)\n"
     ]
    }
   ],
   "source": [
    "dfaux = df1[df1['cuisines']=='Arabian'][['restaurant_id', 'restaurant_name', 'aggregate_rating']].sort_values(by=['aggregate_rating','restaurant_id'], ascending=[True, True])\n",
    "print(f'O restaurante de culinária Árabe com a menor nota média é a(o) {dfaux.iloc[0,1]} ({round(dfaux.iloc[0,2],2)})')"
   ]
  },
  {
   "cell_type": "code",
   "execution_count": 73,
   "metadata": {},
   "outputs": [
    {
     "name": "stdout",
     "output_type": "stream",
     "text": [
      "O restaurante de culinária Árabe com a maior nota média é a(o) Mandi@36 (4.7)\n"
     ]
    }
   ],
   "source": [
    "dfaux = df1[df1['cuisines']=='Arabian'][['restaurant_id', 'restaurant_name', 'aggregate_rating']].sort_values(by=['aggregate_rating','restaurant_id'], ascending=[False, True])\n",
    "print(f'O restaurante de culinária Árabe com a maior nota média é a(o) {dfaux.iloc[0,1]} ({round(dfaux.iloc[0,2],2)})')"
   ]
  },
  {
   "cell_type": "code",
   "execution_count": 74,
   "metadata": {},
   "outputs": [
    {
     "name": "stdout",
     "output_type": "stream",
     "text": [
      "O restaurante de culinária Japonesa com a menor nota média é a(o) Banzai Sushi (0.0)\n"
     ]
    }
   ],
   "source": [
    "dfaux = df1[df1['cuisines']=='Japanese'][['restaurant_id', 'restaurant_name', 'aggregate_rating']].sort_values(by=['aggregate_rating','restaurant_id'], ascending=[True, True])\n",
    "print(f'O restaurante de culinária Japonesa com a menor nota média é a(o) {dfaux.iloc[0,1]} ({round(dfaux.iloc[0,2],2)})')"
   ]
  },
  {
   "cell_type": "code",
   "execution_count": 75,
   "metadata": {},
   "outputs": [
    {
     "name": "stdout",
     "output_type": "stream",
     "text": [
      "O restaurante de culinária Japonesa com a maior nota média é a(o) Sushi Samba (4.9)\n"
     ]
    }
   ],
   "source": [
    "dfaux = df1[df1['cuisines']=='Japanese'][['restaurant_id', 'restaurant_name', 'aggregate_rating']].sort_values(by=['aggregate_rating','restaurant_id'], ascending=[False, True])\n",
    "print(f'O restaurante de culinária Japonesa com a maior nota média é a(o) {dfaux.iloc[0,1]} ({round(dfaux.iloc[0,2],2)})')"
   ]
  },
  {
   "cell_type": "code",
   "execution_count": 76,
   "metadata": {},
   "outputs": [
    {
     "name": "stdout",
     "output_type": "stream",
     "text": [
      "O restaurante de culinária Caseira com a menor nota média é a(o) GurMekan Restaurant (3.7)\n"
     ]
    }
   ],
   "source": [
    "dfaux = df1[df1['cuisines']=='Home-made'][['restaurant_id', 'restaurant_name', 'aggregate_rating']].sort_values(by=['aggregate_rating','restaurant_id'], ascending=[True, True])\n",
    "print(f'O restaurante de culinária Caseira com a menor nota média é a(o) {dfaux.iloc[0,1]} ({round(dfaux.iloc[0,2],2)})')"
   ]
  },
  {
   "cell_type": "code",
   "execution_count": 77,
   "metadata": {},
   "outputs": [
    {
     "name": "stdout",
     "output_type": "stream",
     "text": [
      "O restaurante de culinária Caseira com a maior nota média é a(o) Kanaat Lokantası (4.0)\n"
     ]
    }
   ],
   "source": [
    "dfaux = df1[df1['cuisines']=='Home-made'][['restaurant_id', 'restaurant_name', 'aggregate_rating']].sort_values(by=['aggregate_rating','restaurant_id'], ascending=[False, True])\n",
    "print(f'O restaurante de culinária Caseira com a maior nota média é a(o) {dfaux.iloc[0,1]} ({round(dfaux.iloc[0,2],2)})')"
   ]
  },
  {
   "cell_type": "code",
   "execution_count": 78,
   "metadata": {},
   "outputs": [
    {
     "name": "stdout",
     "output_type": "stream",
     "text": [
      "O tipo de culinária com o maior valor médio de um prato para duas pessoas é o(a) Western (333333.33)\n"
     ]
    }
   ],
   "source": [
    "dfaux = df1[['cuisines', 'average_cost_for_two']].groupby('cuisines').mean().sort_values(by='average_cost_for_two', ascending=False).reset_index()\n",
    "print(f'O tipo de culinária com o maior valor médio de um prato para duas pessoas é o(a) {dfaux.iloc[0,0]} ({round(dfaux.iloc[0,1],2)})')"
   ]
  },
  {
   "cell_type": "code",
   "execution_count": 79,
   "metadata": {},
   "outputs": [
    {
     "name": "stdout",
     "output_type": "stream",
     "text": [
      "O tipo de culinária com o maior valor médio de um prato para duas pessoas (convertido para USD) é o(a) New Mexican (180.0)\n"
     ]
    }
   ],
   "source": [
    "dfaux = df1[['cuisines', 'converted_avg_cost_for_two']].groupby('cuisines').mean().sort_values(by='converted_avg_cost_for_two', ascending=False).reset_index()\n",
    "print(f'O tipo de culinária com o maior valor médio de um prato para duas pessoas (convertido para USD) é o(a) {dfaux.iloc[0,0]} ({round(dfaux.iloc[0,1],2)})')"
   ]
  },
  {
   "cell_type": "code",
   "execution_count": 80,
   "metadata": {},
   "outputs": [
    {
     "name": "stdout",
     "output_type": "stream",
     "text": [
      "O tipo de culinária com a maior nota média é o(a) Others (4.9)\n"
     ]
    }
   ],
   "source": [
    "dfaux = df1[['cuisines', 'aggregate_rating']].groupby('cuisines').mean().sort_values(by='aggregate_rating', ascending=False).reset_index()\n",
    "print(f'O tipo de culinária com a maior nota média é o(a) {dfaux.iloc[0,0]} ({round(dfaux.iloc[0,1],2)})')"
   ]
  },
  {
   "cell_type": "code",
   "execution_count": 81,
   "metadata": {},
   "outputs": [
    {
     "name": "stdout",
     "output_type": "stream",
     "text": [
      "O tipo de culinária que possui mais restaurantes que aceitam pedido online e fazem entrega é o North Indian (317 restaurantes)\n"
     ]
    }
   ],
   "source": [
    "dfaux = df1[(df1['has_online_delivery']==1)&(df1['is_delivering_now']==1)].groupby('cuisines').count()['restaurant_id'].reset_index()\n",
    "dfaux = dfaux.sort_values(by='restaurant_id', ascending=False)\n",
    "print(f'O tipo de culinária que possui mais restaurantes que aceitam pedido online e fazem entrega é o {dfaux.iloc[0,0]} ({dfaux.iloc[0,1]} restaurantes)')"
   ]
  }
 ],
 "metadata": {
  "kernelspec": {
   "display_name": "Python 3",
   "language": "python",
   "name": "python3"
  },
  "language_info": {
   "codemirror_mode": {
    "name": "ipython",
    "version": 3
   },
   "file_extension": ".py",
   "mimetype": "text/x-python",
   "name": "python",
   "nbconvert_exporter": "python",
   "pygments_lexer": "ipython3",
   "version": "3.12.1"
  }
 },
 "nbformat": 4,
 "nbformat_minor": 2
}
